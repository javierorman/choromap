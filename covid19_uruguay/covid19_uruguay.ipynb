{
 "cells": [
  {
   "cell_type": "markdown",
   "metadata": {},
   "source": [
    "# La evolución del COVID-19 en Uruguay en mapas animados"
   ]
  },
  {
   "cell_type": "markdown",
   "metadata": {},
   "source": [
    "**Javier Orman**  \n",
    "LinkedIn: https://www.linkedin.com/in/javierorman/  \n",
    "GitHub del Notebook: https://github.com/javierorman/choromap/tree/master/covid19_uruguay\n",
    "\n",
    "\n",
    "(Última actualización: 7/12/2020)"
   ]
  },
  {
   "cell_type": "markdown",
   "metadata": {},
   "source": [
    "### Introducción"
   ]
  },
  {
   "cell_type": "markdown",
   "metadata": {},
   "source": [
    "El virus COVID-19, llamado así por sus siglas en inglés (Coronavirus Disease 2019), ha afectado a todos los países del mundo y Uruguay no es excepción. El virus ha afectado a cada departamento de forma desigual y las visualizaciones de datos pueden ayudar a observar este proceso de forma intuitiva.\n",
    "\n",
    "En este notebook, a partir de los datos publicados por el Sistema Nacional de Emergencias de Uruguay y disponibles en el [catálogo de datos abiertos](https://catalogodatos.gub.uy/), se utiliza la herramienta \"choromap\" (repositorio en GitHub [aquí](https://github.com/javierorman/choromap)) para construir mapas animados que visibilicen la evolución de la distribución territorial de los casos detectados."
   ]
  },
  {
   "cell_type": "markdown",
   "metadata": {},
   "source": [
    "### Índice\n",
    "\n",
    "[1. Datos de COVID-19 de Uruguay](#section_1)  \n",
    "[2. Datos demográficos](#section_2)  \n",
    "[3. Datos geográficos](#section_3)  \n",
    "[4. Total de casos activos](#section_4)  \n",
    "[5. Tasa de casos activos](#section_5)  \n",
    "[6. Total de fallecidos](#section_6)  \n",
    "[7. Tasa de fallecidos](#section_7)  "
   ]
  },
  {
   "cell_type": "markdown",
   "metadata": {},
   "source": [
    "### Dependencias"
   ]
  },
  {
   "cell_type": "markdown",
   "metadata": {},
   "source": [
    "Los datos van a ser importados y organizados con pandas. \n",
    "Geopandas va a permitir trabajar con datos geoespaciales y las visualizaciones van a ser realizadas con matplotlib."
   ]
  },
  {
   "cell_type": "code",
   "execution_count": 1,
   "metadata": {},
   "outputs": [],
   "source": [
    "import pandas as pd\n",
    "import geopandas as gpd\n",
    "\n",
    "import requests\n",
    "\n",
    "import os\n",
    "import sys"
   ]
  },
  {
   "cell_type": "code",
   "execution_count": 2,
   "metadata": {},
   "outputs": [],
   "source": [
    "module_path = os.path.abspath(os.path.join('..'))\n",
    "if module_path not in sys.path:\n",
    "    sys.path.append(module_path)"
   ]
  },
  {
   "cell_type": "markdown",
   "metadata": {},
   "source": [
    "Importamos la clase *ChoroMapBuilder* y *DataFramePrepper* del módulo *choromap*."
   ]
  },
  {
   "cell_type": "code",
   "execution_count": 3,
   "metadata": {},
   "outputs": [],
   "source": [
    "from choromap import ChoroMapBuilder, DataFramePrepper"
   ]
  },
  {
   "cell_type": "markdown",
   "metadata": {},
   "source": [
    "<a id='section_1'></a>"
   ]
  },
  {
   "cell_type": "markdown",
   "metadata": {},
   "source": [
    "## Datos"
   ]
  },
  {
   "cell_type": "markdown",
   "metadata": {},
   "source": [
    "### 1. Datos de COVID-19 en Uruguay"
   ]
  },
  {
   "cell_type": "markdown",
   "metadata": {},
   "source": [
    "Los datos provistos por el Sistema Nacional de Emergencias están disponibles en el [Catálogo Nacional](https://catalogodatos.gub.uy/dataset/sinae01-covid19) y son accesibles mediante API."
   ]
  },
  {
   "cell_type": "code",
   "execution_count": 4,
   "metadata": {},
   "outputs": [],
   "source": [
    "url = 'http://catalogodatos.gub.uy/api/3/action/datastore_search?resource_id=a9dbbd4e-9cf3-4bed-943f-c5e133543673'\n",
    "\n",
    "# initialize empty dataframe\n",
    "uru_df = pd.DataFrame(columns=['Fecha', 'Indicador', 'Territorio', 'Valor'])\n",
    "\n",
    "while True:\n",
    "    # make request\n",
    "    r = requests.get(url, verify=False)\n",
    "    response = r.json()\n",
    "    \n",
    "    # get new data\n",
    "    data = response['result']['records']\n",
    "    if not data:\n",
    "        break\n",
    "    \n",
    "    # add new data to dataframe\n",
    "    df_temp = pd.DataFrame(data, columns=['Fecha', 'Indicador', 'Territorio', 'Valor'])\n",
    "    uru_df = pd.concat([uru_df, df_temp], ignore_index=True)\n",
    "    \n",
    "    # get url for next request\n",
    "    next_url = response['result']['_links']['next']\n",
    "    url = 'http://catalogodatos.gub.uy' + next_url"
   ]
  },
  {
   "cell_type": "code",
   "execution_count": 6,
   "metadata": {},
   "outputs": [
    {
     "data": {
      "text/html": [
       "<div>\n",
       "<style scoped>\n",
       "    .dataframe tbody tr th:only-of-type {\n",
       "        vertical-align: middle;\n",
       "    }\n",
       "\n",
       "    .dataframe tbody tr th {\n",
       "        vertical-align: top;\n",
       "    }\n",
       "\n",
       "    .dataframe thead th {\n",
       "        text-align: right;\n",
       "    }\n",
       "</style>\n",
       "<table border=\"1\" class=\"dataframe\">\n",
       "  <thead>\n",
       "    <tr style=\"text-align: right;\">\n",
       "      <th></th>\n",
       "      <th>Unnamed: 0</th>\n",
       "      <th>Fecha</th>\n",
       "      <th>Indicador</th>\n",
       "      <th>Territorio</th>\n",
       "      <th>Valor</th>\n",
       "    </tr>\n",
       "  </thead>\n",
       "  <tbody>\n",
       "    <tr>\n",
       "      <th>0</th>\n",
       "      <td>0</td>\n",
       "      <td>2020-04-09T00:00:00</td>\n",
       "      <td>Casos activos</td>\n",
       "      <td>Artigas</td>\n",
       "      <td>0</td>\n",
       "    </tr>\n",
       "    <tr>\n",
       "      <th>1</th>\n",
       "      <td>1</td>\n",
       "      <td>2020-04-09T00:00:00</td>\n",
       "      <td>Casos activos</td>\n",
       "      <td>Canelones</td>\n",
       "      <td>37</td>\n",
       "    </tr>\n",
       "    <tr>\n",
       "      <th>2</th>\n",
       "      <td>2</td>\n",
       "      <td>2020-04-09T00:00:00</td>\n",
       "      <td>Casos activos</td>\n",
       "      <td>Cerro Largo</td>\n",
       "      <td>0</td>\n",
       "    </tr>\n",
       "    <tr>\n",
       "      <th>3</th>\n",
       "      <td>3</td>\n",
       "      <td>2020-04-09T00:00:00</td>\n",
       "      <td>Casos activos</td>\n",
       "      <td>Colonia</td>\n",
       "      <td>4</td>\n",
       "    </tr>\n",
       "    <tr>\n",
       "      <th>4</th>\n",
       "      <td>4</td>\n",
       "      <td>2020-04-09T00:00:00</td>\n",
       "      <td>Casos activos</td>\n",
       "      <td>Durazno</td>\n",
       "      <td>0</td>\n",
       "    </tr>\n",
       "    <tr>\n",
       "      <th>...</th>\n",
       "      <td>...</td>\n",
       "      <td>...</td>\n",
       "      <td>...</td>\n",
       "      <td>...</td>\n",
       "      <td>...</td>\n",
       "    </tr>\n",
       "    <tr>\n",
       "      <th>15539</th>\n",
       "      <td>15539</td>\n",
       "      <td>2020-11-24T00:00:00</td>\n",
       "      <td>Cantidad de Tests</td>\n",
       "      <td>Todo el país</td>\n",
       "      <td>0</td>\n",
       "    </tr>\n",
       "    <tr>\n",
       "      <th>15540</th>\n",
       "      <td>15540</td>\n",
       "      <td>2020-11-24T00:00:00</td>\n",
       "      <td>Personas en CTI</td>\n",
       "      <td>Todo el país</td>\n",
       "      <td>13</td>\n",
       "    </tr>\n",
       "    <tr>\n",
       "      <th>15541</th>\n",
       "      <td>15541</td>\n",
       "      <td>2020-11-24T00:00:00</td>\n",
       "      <td>Personas en CI</td>\n",
       "      <td>Todo el país</td>\n",
       "      <td>0</td>\n",
       "    </tr>\n",
       "    <tr>\n",
       "      <th>15542</th>\n",
       "      <td>15542</td>\n",
       "      <td>2020-11-24T00:00:00</td>\n",
       "      <td>Fallecidos</td>\n",
       "      <td>Todo el país</td>\n",
       "      <td>72</td>\n",
       "    </tr>\n",
       "    <tr>\n",
       "      <th>15543</th>\n",
       "      <td>15543</td>\n",
       "      <td>2020-11-24T00:00:00</td>\n",
       "      <td>Casos nuevos</td>\n",
       "      <td>Todo el país</td>\n",
       "      <td>108</td>\n",
       "    </tr>\n",
       "  </tbody>\n",
       "</table>\n",
       "<p>15544 rows × 5 columns</p>\n",
       "</div>"
      ],
      "text/plain": [
       "       Unnamed: 0                Fecha           Indicador    Territorio  \\\n",
       "0               0  2020-04-09T00:00:00       Casos activos       Artigas   \n",
       "1               1  2020-04-09T00:00:00       Casos activos     Canelones   \n",
       "2               2  2020-04-09T00:00:00       Casos activos   Cerro Largo   \n",
       "3               3  2020-04-09T00:00:00       Casos activos       Colonia   \n",
       "4               4  2020-04-09T00:00:00       Casos activos       Durazno   \n",
       "...           ...                  ...                 ...           ...   \n",
       "15539       15539  2020-11-24T00:00:00  Cantidad de Tests   Todo el país   \n",
       "15540       15540  2020-11-24T00:00:00     Personas en CTI  Todo el país   \n",
       "15541       15541  2020-11-24T00:00:00      Personas en CI  Todo el país   \n",
       "15542       15542  2020-11-24T00:00:00         Fallecidos   Todo el país   \n",
       "15543       15543  2020-11-24T00:00:00       Casos nuevos   Todo el país   \n",
       "\n",
       "       Valor  \n",
       "0          0  \n",
       "1         37  \n",
       "2          0  \n",
       "3          4  \n",
       "4          0  \n",
       "...      ...  \n",
       "15539      0  \n",
       "15540     13  \n",
       "15541      0  \n",
       "15542     72  \n",
       "15543    108  \n",
       "\n",
       "[15544 rows x 5 columns]"
      ]
     },
     "execution_count": 6,
     "metadata": {},
     "output_type": "execute_result"
    }
   ],
   "source": [
    "uru_df"
   ]
  },
  {
   "cell_type": "code",
   "execution_count": 7,
   "metadata": {},
   "outputs": [
    {
     "name": "stdout",
     "output_type": "stream",
     "text": [
      "<class 'pandas.core.frame.DataFrame'>\n",
      "RangeIndex: 15544 entries, 0 to 15543\n",
      "Data columns (total 5 columns):\n",
      " #   Column      Non-Null Count  Dtype \n",
      "---  ------      --------------  ----- \n",
      " 0   Unnamed: 0  15544 non-null  int64 \n",
      " 1   Fecha       15544 non-null  object\n",
      " 2   Indicador   15544 non-null  object\n",
      " 3   Territorio  15544 non-null  object\n",
      " 4   Valor       15544 non-null  int64 \n",
      "dtypes: int64(2), object(3)\n",
      "memory usage: 607.3+ KB\n"
     ]
    }
   ],
   "source": [
    "uru_df.info()"
   ]
  },
  {
   "cell_type": "markdown",
   "metadata": {},
   "source": [
    "Aquí vemos información de las 4 columnas, el tipo de datos que contienen y el número de filas con campos vacíos (0 en este caso). Vamos a cambiar el tipo de datos de la columna 'Valor' a *type* numérico."
   ]
  },
  {
   "cell_type": "code",
   "execution_count": 8,
   "metadata": {},
   "outputs": [],
   "source": [
    "# Cambiar el tipo de la columna 'Valor' a int32\n",
    "uru_df['Valor'] = uru_df['Valor'].astype('int32')\n",
    "\n",
    "# Limpiar fechas\n",
    "uru_df['Fecha'] = uru_df['Fecha'].str.slice(0, 10)\n",
    "\n",
    "# Quitar filas con valores de 'Todo el país'\n",
    "uru_df = uru_df[uru_df['Territorio'] != 'Todo el país']\n",
    "uru_df.reset_index(drop=True, inplace=True)\n",
    "\n",
    "# Eliminar espacios innecesarios\n",
    "uru_df.Indicador = uru_df.Indicador.str.replace('\\xa0', '')\n",
    "uru_df.Territorio = uru_df.Territorio.str.replace('\\xa0', '')\n",
    "uru_df.Indicador = uru_df.Indicador.str.replace('  ', ' ')"
   ]
  },
  {
   "cell_type": "markdown",
   "metadata": {},
   "source": [
    "Observamos las categorías presentes en \"Indicadores\":"
   ]
  },
  {
   "cell_type": "code",
   "execution_count": 9,
   "metadata": {},
   "outputs": [
    {
     "data": {
      "text/plain": [
       "array(['Casos activos', 'Casos recuperados', 'Fallecidos'], dtype=object)"
      ]
     },
     "execution_count": 9,
     "metadata": {},
     "output_type": "execute_result"
    }
   ],
   "source": [
    "uru_df.Indicador.unique()"
   ]
  },
  {
   "cell_type": "markdown",
   "metadata": {},
   "source": [
    "<a id='section_2'></a>"
   ]
  },
  {
   "cell_type": "markdown",
   "metadata": {},
   "source": [
    "### 2. Datos demográficos"
   ]
  },
  {
   "cell_type": "markdown",
   "metadata": {},
   "source": [
    "Además de los números absolutos, queremos trabajar con tasas de casos activos y de fallecidos en proporción a la población de cada departamento. Para eso importamos a continuación [datos del Insituto Nacional de Estadística](http://www.ine.gub.uy/censos-1852-2011).  \n",
    "Interesan los datos de la última columna, correspondiente a la población de cada departamente de acuerdo al Censo 2011."
   ]
  },
  {
   "cell_type": "code",
   "execution_count": 10,
   "metadata": {},
   "outputs": [
    {
     "data": {
      "text/html": [
       "<div>\n",
       "<style scoped>\n",
       "    .dataframe tbody tr th:only-of-type {\n",
       "        vertical-align: middle;\n",
       "    }\n",
       "\n",
       "    .dataframe tbody tr th {\n",
       "        vertical-align: top;\n",
       "    }\n",
       "\n",
       "    .dataframe thead th {\n",
       "        text-align: right;\n",
       "    }\n",
       "</style>\n",
       "<table border=\"1\" class=\"dataframe\">\n",
       "  <thead>\n",
       "    <tr style=\"text-align: right;\">\n",
       "      <th></th>\n",
       "      <th>Poblacion en el pais segun departamento</th>\n",
       "      <th>Unnamed: 1</th>\n",
       "      <th>Unnamed: 2</th>\n",
       "      <th>Unnamed: 3</th>\n",
       "      <th>Unnamed: 4</th>\n",
       "      <th>Unnamed: 5</th>\n",
       "      <th>Unnamed: 6</th>\n",
       "      <th>Unnamed: 7</th>\n",
       "      <th>Unnamed: 8</th>\n",
       "      <th>Unnamed: 9</th>\n",
       "    </tr>\n",
       "  </thead>\n",
       "  <tbody>\n",
       "    <tr>\n",
       "      <th>0</th>\n",
       "      <td>Censos de Población años 1852, 1860, 1908, 196...</td>\n",
       "      <td>NaN</td>\n",
       "      <td>NaN</td>\n",
       "      <td>NaN</td>\n",
       "      <td>NaN</td>\n",
       "      <td>NaN</td>\n",
       "      <td>NaN</td>\n",
       "      <td>NaN</td>\n",
       "      <td>NaN</td>\n",
       "      <td>NaN</td>\n",
       "    </tr>\n",
       "    <tr>\n",
       "      <th>1</th>\n",
       "      <td>NaN</td>\n",
       "      <td>NaN</td>\n",
       "      <td>NaN</td>\n",
       "      <td>NaN</td>\n",
       "      <td>NaN</td>\n",
       "      <td>NaN</td>\n",
       "      <td>NaN</td>\n",
       "      <td>NaN</td>\n",
       "      <td>NaN</td>\n",
       "      <td>NaN</td>\n",
       "    </tr>\n",
       "    <tr>\n",
       "      <th>2</th>\n",
       "      <td>Departametno</td>\n",
       "      <td>1852</td>\n",
       "      <td>1860</td>\n",
       "      <td>1908.0</td>\n",
       "      <td>1963.0</td>\n",
       "      <td>1975.0</td>\n",
       "      <td>1985.0</td>\n",
       "      <td>1996.0</td>\n",
       "      <td>2004.0</td>\n",
       "      <td>2011 (1)</td>\n",
       "    </tr>\n",
       "    <tr>\n",
       "      <th>3</th>\n",
       "      <td>NaN</td>\n",
       "      <td>NaN</td>\n",
       "      <td>NaN</td>\n",
       "      <td>NaN</td>\n",
       "      <td>NaN</td>\n",
       "      <td>NaN</td>\n",
       "      <td>NaN</td>\n",
       "      <td>NaN</td>\n",
       "      <td>NaN</td>\n",
       "      <td>NaN</td>\n",
       "    </tr>\n",
       "    <tr>\n",
       "      <th>4</th>\n",
       "      <td>NaN</td>\n",
       "      <td>NaN</td>\n",
       "      <td>NaN</td>\n",
       "      <td>NaN</td>\n",
       "      <td>NaN</td>\n",
       "      <td>NaN</td>\n",
       "      <td>NaN</td>\n",
       "      <td>NaN</td>\n",
       "      <td>NaN</td>\n",
       "      <td>NaN</td>\n",
       "    </tr>\n",
       "    <tr>\n",
       "      <th>5</th>\n",
       "      <td>Total del País</td>\n",
       "      <td>131969</td>\n",
       "      <td>229480</td>\n",
       "      <td>1042686.0</td>\n",
       "      <td>2595510.0</td>\n",
       "      <td>2788429.0</td>\n",
       "      <td>2955241.0</td>\n",
       "      <td>3163763.0</td>\n",
       "      <td>3241003.0</td>\n",
       "      <td>3286314</td>\n",
       "    </tr>\n",
       "    <tr>\n",
       "      <th>6</th>\n",
       "      <td>NaN</td>\n",
       "      <td>NaN</td>\n",
       "      <td>NaN</td>\n",
       "      <td>NaN</td>\n",
       "      <td>NaN</td>\n",
       "      <td>NaN</td>\n",
       "      <td>NaN</td>\n",
       "      <td>NaN</td>\n",
       "      <td>NaN</td>\n",
       "      <td>NaN</td>\n",
       "    </tr>\n",
       "    <tr>\n",
       "      <th>7</th>\n",
       "      <td>Montevideo</td>\n",
       "      <td>33994</td>\n",
       "      <td>57913</td>\n",
       "      <td>309231.0</td>\n",
       "      <td>1202757.0</td>\n",
       "      <td>1237227.0</td>\n",
       "      <td>1311976.0</td>\n",
       "      <td>1344839.0</td>\n",
       "      <td>1325968.0</td>\n",
       "      <td>1319108</td>\n",
       "    </tr>\n",
       "    <tr>\n",
       "      <th>8</th>\n",
       "      <td>NaN</td>\n",
       "      <td>NaN</td>\n",
       "      <td>NaN</td>\n",
       "      <td>NaN</td>\n",
       "      <td>NaN</td>\n",
       "      <td>NaN</td>\n",
       "      <td>NaN</td>\n",
       "      <td>NaN</td>\n",
       "      <td>NaN</td>\n",
       "      <td>NaN</td>\n",
       "    </tr>\n",
       "    <tr>\n",
       "      <th>9</th>\n",
       "      <td>Resto País</td>\n",
       "      <td>97975</td>\n",
       "      <td>171567</td>\n",
       "      <td>733455.0</td>\n",
       "      <td>1392753.0</td>\n",
       "      <td>1551202.0</td>\n",
       "      <td>1643265.0</td>\n",
       "      <td>1818924.0</td>\n",
       "      <td>1915035.0</td>\n",
       "      <td>1967206</td>\n",
       "    </tr>\n",
       "  </tbody>\n",
       "</table>\n",
       "</div>"
      ],
      "text/plain": [
       "             Poblacion en el pais segun departamento Unnamed: 1 Unnamed: 2  \\\n",
       "0  Censos de Población años 1852, 1860, 1908, 196...        NaN        NaN   \n",
       "1                                                NaN        NaN        NaN   \n",
       "2                                       Departametno       1852       1860   \n",
       "3                                                NaN        NaN        NaN   \n",
       "4                                                NaN        NaN        NaN   \n",
       "5                                     Total del País     131969     229480   \n",
       "6                                                NaN        NaN        NaN   \n",
       "7                                         Montevideo      33994      57913   \n",
       "8                                                NaN        NaN        NaN   \n",
       "9                                         Resto País      97975     171567   \n",
       "\n",
       "   Unnamed: 3  Unnamed: 4  Unnamed: 5  Unnamed: 6  Unnamed: 7  Unnamed: 8  \\\n",
       "0         NaN         NaN         NaN         NaN         NaN         NaN   \n",
       "1         NaN         NaN         NaN         NaN         NaN         NaN   \n",
       "2      1908.0      1963.0      1975.0      1985.0      1996.0      2004.0   \n",
       "3         NaN         NaN         NaN         NaN         NaN         NaN   \n",
       "4         NaN         NaN         NaN         NaN         NaN         NaN   \n",
       "5   1042686.0   2595510.0   2788429.0   2955241.0   3163763.0   3241003.0   \n",
       "6         NaN         NaN         NaN         NaN         NaN         NaN   \n",
       "7    309231.0   1202757.0   1237227.0   1311976.0   1344839.0   1325968.0   \n",
       "8         NaN         NaN         NaN         NaN         NaN         NaN   \n",
       "9    733455.0   1392753.0   1551202.0   1643265.0   1818924.0   1915035.0   \n",
       "\n",
       "  Unnamed: 9  \n",
       "0        NaN  \n",
       "1        NaN  \n",
       "2   2011 (1)  \n",
       "3        NaN  \n",
       "4        NaN  \n",
       "5    3286314  \n",
       "6        NaN  \n",
       "7    1319108  \n",
       "8        NaN  \n",
       "9    1967206  "
      ]
     },
     "execution_count": 10,
     "metadata": {},
     "output_type": "execute_result"
    }
   ],
   "source": [
    "pobl_df = pd.read_excel('datasets/Censos_T4.xls')\n",
    "\n",
    "# Las primeras 10 filas\n",
    "pobl_df.head(10)"
   ]
  },
  {
   "cell_type": "markdown",
   "metadata": {},
   "source": [
    "Quitamos filas innecesarias:"
   ]
  },
  {
   "cell_type": "code",
   "execution_count": 11,
   "metadata": {},
   "outputs": [],
   "source": [
    "pobl_df = pobl_df.iloc[7:]\n",
    "pobl_df.drop(index=[8, 9, 10], inplace=True)\n",
    "pobl_df = pobl_df.loc[:28]\n",
    "pobl_df.reset_index(inplace=True, drop=True)"
   ]
  },
  {
   "cell_type": "code",
   "execution_count": 12,
   "metadata": {},
   "outputs": [
    {
     "data": {
      "text/html": [
       "<div>\n",
       "<style scoped>\n",
       "    .dataframe tbody tr th:only-of-type {\n",
       "        vertical-align: middle;\n",
       "    }\n",
       "\n",
       "    .dataframe tbody tr th {\n",
       "        vertical-align: top;\n",
       "    }\n",
       "\n",
       "    .dataframe thead th {\n",
       "        text-align: right;\n",
       "    }\n",
       "</style>\n",
       "<table border=\"1\" class=\"dataframe\">\n",
       "  <thead>\n",
       "    <tr style=\"text-align: right;\">\n",
       "      <th></th>\n",
       "      <th>Poblacion en el pais segun departamento</th>\n",
       "      <th>Unnamed: 1</th>\n",
       "      <th>Unnamed: 2</th>\n",
       "      <th>Unnamed: 3</th>\n",
       "      <th>Unnamed: 4</th>\n",
       "      <th>Unnamed: 5</th>\n",
       "      <th>Unnamed: 6</th>\n",
       "      <th>Unnamed: 7</th>\n",
       "      <th>Unnamed: 8</th>\n",
       "      <th>Unnamed: 9</th>\n",
       "    </tr>\n",
       "  </thead>\n",
       "  <tbody>\n",
       "    <tr>\n",
       "      <th>0</th>\n",
       "      <td>Montevideo</td>\n",
       "      <td>33994</td>\n",
       "      <td>57913</td>\n",
       "      <td>309231.0</td>\n",
       "      <td>1202757.0</td>\n",
       "      <td>1237227.0</td>\n",
       "      <td>1311976.0</td>\n",
       "      <td>1344839.0</td>\n",
       "      <td>1325968.0</td>\n",
       "      <td>1319108</td>\n",
       "    </tr>\n",
       "    <tr>\n",
       "      <th>1</th>\n",
       "      <td>Artigas</td>\n",
       "      <td>(a)</td>\n",
       "      <td>(a)</td>\n",
       "      <td>26321.0</td>\n",
       "      <td>52843.0</td>\n",
       "      <td>57947.0</td>\n",
       "      <td>69145.0</td>\n",
       "      <td>75059.0</td>\n",
       "      <td>78019.0</td>\n",
       "      <td>73378</td>\n",
       "    </tr>\n",
       "    <tr>\n",
       "      <th>2</th>\n",
       "      <td>Canelones</td>\n",
       "      <td>17817</td>\n",
       "      <td>20468</td>\n",
       "      <td>87874.0</td>\n",
       "      <td>258195.0</td>\n",
       "      <td>325594.0</td>\n",
       "      <td>364248.0</td>\n",
       "      <td>443053.0</td>\n",
       "      <td>485240.0</td>\n",
       "      <td>520187</td>\n",
       "    </tr>\n",
       "    <tr>\n",
       "      <th>3</th>\n",
       "      <td>Cerro Largo</td>\n",
       "      <td>6451</td>\n",
       "      <td>17475</td>\n",
       "      <td>44742.0</td>\n",
       "      <td>71023.0</td>\n",
       "      <td>74027.0</td>\n",
       "      <td>78416.0</td>\n",
       "      <td>82510.0</td>\n",
       "      <td>86564.0</td>\n",
       "      <td>84698</td>\n",
       "    </tr>\n",
       "    <tr>\n",
       "      <th>4</th>\n",
       "      <td>Colonia</td>\n",
       "      <td>7971</td>\n",
       "      <td>13349</td>\n",
       "      <td>54644.0</td>\n",
       "      <td>105276.0</td>\n",
       "      <td>111832.0</td>\n",
       "      <td>112717.0</td>\n",
       "      <td>120241.0</td>\n",
       "      <td>119266.0</td>\n",
       "      <td>123203</td>\n",
       "    </tr>\n",
       "  </tbody>\n",
       "</table>\n",
       "</div>"
      ],
      "text/plain": [
       "  Poblacion en el pais segun departamento Unnamed: 1 Unnamed: 2  Unnamed: 3  \\\n",
       "0                              Montevideo      33994      57913    309231.0   \n",
       "1                                 Artigas        (a)        (a)     26321.0   \n",
       "2                               Canelones      17817      20468     87874.0   \n",
       "3                             Cerro Largo       6451      17475     44742.0   \n",
       "4                                 Colonia       7971      13349     54644.0   \n",
       "\n",
       "   Unnamed: 4  Unnamed: 5  Unnamed: 6  Unnamed: 7  Unnamed: 8 Unnamed: 9  \n",
       "0   1202757.0   1237227.0   1311976.0   1344839.0   1325968.0    1319108  \n",
       "1     52843.0     57947.0     69145.0     75059.0     78019.0      73378  \n",
       "2    258195.0    325594.0    364248.0    443053.0    485240.0     520187  \n",
       "3     71023.0     74027.0     78416.0     82510.0     86564.0      84698  \n",
       "4    105276.0    111832.0    112717.0    120241.0    119266.0     123203  "
      ]
     },
     "execution_count": 12,
     "metadata": {},
     "output_type": "execute_result"
    }
   ],
   "source": [
    "# Las primeras 5 filas\n",
    "pobl_df.head()"
   ]
  },
  {
   "cell_type": "markdown",
   "metadata": {},
   "source": [
    "Removemos columnas innecesarias y nombramos las dos que nos interesan."
   ]
  },
  {
   "cell_type": "code",
   "execution_count": 13,
   "metadata": {},
   "outputs": [],
   "source": [
    "pobl_df.rename(columns={'Poblacion en el pais segun departamento': 'Territorio', 'Unnamed: 9': 'Pobl'}, inplace=True)\n",
    "pobl_df = pobl_df[['Territorio', 'Pobl']]\n",
    "pobl_df.iloc[11, 0] = 'Río Negro'"
   ]
  },
  {
   "cell_type": "code",
   "execution_count": 14,
   "metadata": {},
   "outputs": [
    {
     "data": {
      "text/html": [
       "<div>\n",
       "<style scoped>\n",
       "    .dataframe tbody tr th:only-of-type {\n",
       "        vertical-align: middle;\n",
       "    }\n",
       "\n",
       "    .dataframe tbody tr th {\n",
       "        vertical-align: top;\n",
       "    }\n",
       "\n",
       "    .dataframe thead th {\n",
       "        text-align: right;\n",
       "    }\n",
       "</style>\n",
       "<table border=\"1\" class=\"dataframe\">\n",
       "  <thead>\n",
       "    <tr style=\"text-align: right;\">\n",
       "      <th></th>\n",
       "      <th>Territorio</th>\n",
       "      <th>Pobl</th>\n",
       "    </tr>\n",
       "  </thead>\n",
       "  <tbody>\n",
       "    <tr>\n",
       "      <th>0</th>\n",
       "      <td>Montevideo</td>\n",
       "      <td>1319108</td>\n",
       "    </tr>\n",
       "    <tr>\n",
       "      <th>1</th>\n",
       "      <td>Artigas</td>\n",
       "      <td>73378</td>\n",
       "    </tr>\n",
       "    <tr>\n",
       "      <th>2</th>\n",
       "      <td>Canelones</td>\n",
       "      <td>520187</td>\n",
       "    </tr>\n",
       "    <tr>\n",
       "      <th>3</th>\n",
       "      <td>Cerro Largo</td>\n",
       "      <td>84698</td>\n",
       "    </tr>\n",
       "    <tr>\n",
       "      <th>4</th>\n",
       "      <td>Colonia</td>\n",
       "      <td>123203</td>\n",
       "    </tr>\n",
       "    <tr>\n",
       "      <th>5</th>\n",
       "      <td>Durazno</td>\n",
       "      <td>57088</td>\n",
       "    </tr>\n",
       "    <tr>\n",
       "      <th>6</th>\n",
       "      <td>Flores</td>\n",
       "      <td>25050</td>\n",
       "    </tr>\n",
       "    <tr>\n",
       "      <th>7</th>\n",
       "      <td>Florida</td>\n",
       "      <td>67048</td>\n",
       "    </tr>\n",
       "    <tr>\n",
       "      <th>8</th>\n",
       "      <td>Lavalleja</td>\n",
       "      <td>58815</td>\n",
       "    </tr>\n",
       "    <tr>\n",
       "      <th>9</th>\n",
       "      <td>Maldonado</td>\n",
       "      <td>164300</td>\n",
       "    </tr>\n",
       "    <tr>\n",
       "      <th>10</th>\n",
       "      <td>Paysandú</td>\n",
       "      <td>113124</td>\n",
       "    </tr>\n",
       "    <tr>\n",
       "      <th>11</th>\n",
       "      <td>Río Negro</td>\n",
       "      <td>54765</td>\n",
       "    </tr>\n",
       "    <tr>\n",
       "      <th>12</th>\n",
       "      <td>Rivera</td>\n",
       "      <td>103493</td>\n",
       "    </tr>\n",
       "    <tr>\n",
       "      <th>13</th>\n",
       "      <td>Rocha</td>\n",
       "      <td>68088</td>\n",
       "    </tr>\n",
       "    <tr>\n",
       "      <th>14</th>\n",
       "      <td>Salto</td>\n",
       "      <td>124878</td>\n",
       "    </tr>\n",
       "    <tr>\n",
       "      <th>15</th>\n",
       "      <td>San José</td>\n",
       "      <td>108309</td>\n",
       "    </tr>\n",
       "    <tr>\n",
       "      <th>16</th>\n",
       "      <td>Soriano</td>\n",
       "      <td>82595</td>\n",
       "    </tr>\n",
       "    <tr>\n",
       "      <th>17</th>\n",
       "      <td>Tacuarembó</td>\n",
       "      <td>90053</td>\n",
       "    </tr>\n",
       "    <tr>\n",
       "      <th>18</th>\n",
       "      <td>Treinta y Tres</td>\n",
       "      <td>48134</td>\n",
       "    </tr>\n",
       "  </tbody>\n",
       "</table>\n",
       "</div>"
      ],
      "text/plain": [
       "        Territorio     Pobl\n",
       "0       Montevideo  1319108\n",
       "1          Artigas    73378\n",
       "2        Canelones   520187\n",
       "3      Cerro Largo    84698\n",
       "4          Colonia   123203\n",
       "5          Durazno    57088\n",
       "6           Flores    25050\n",
       "7          Florida    67048\n",
       "8        Lavalleja    58815\n",
       "9        Maldonado   164300\n",
       "10        Paysandú   113124\n",
       "11       Río Negro    54765\n",
       "12          Rivera   103493\n",
       "13           Rocha    68088\n",
       "14           Salto   124878\n",
       "15        San José   108309\n",
       "16         Soriano    82595\n",
       "17      Tacuarembó    90053\n",
       "18  Treinta y Tres    48134"
      ]
     },
     "execution_count": 14,
     "metadata": {},
     "output_type": "execute_result"
    }
   ],
   "source": [
    "# La tabla completa\n",
    "pobl_df"
   ]
  },
  {
   "cell_type": "code",
   "execution_count": 15,
   "metadata": {},
   "outputs": [
    {
     "name": "stdout",
     "output_type": "stream",
     "text": [
      "<class 'pandas.core.frame.DataFrame'>\n",
      "RangeIndex: 19 entries, 0 to 18\n",
      "Data columns (total 2 columns):\n",
      " #   Column      Non-Null Count  Dtype \n",
      "---  ------      --------------  ----- \n",
      " 0   Territorio  19 non-null     object\n",
      " 1   Pobl        19 non-null     object\n",
      "dtypes: object(2)\n",
      "memory usage: 432.0+ bytes\n"
     ]
    }
   ],
   "source": [
    "pobl_df.info()"
   ]
  },
  {
   "cell_type": "markdown",
   "metadata": {},
   "source": [
    "La columna \"Pobl\" debería ser de tipo numérico:"
   ]
  },
  {
   "cell_type": "code",
   "execution_count": 16,
   "metadata": {},
   "outputs": [],
   "source": [
    "pobl_df['Pobl'] = pobl_df['Pobl'].astype('int32')"
   ]
  },
  {
   "cell_type": "code",
   "execution_count": 17,
   "metadata": {},
   "outputs": [
    {
     "name": "stdout",
     "output_type": "stream",
     "text": [
      "<class 'pandas.core.frame.DataFrame'>\n",
      "RangeIndex: 19 entries, 0 to 18\n",
      "Data columns (total 2 columns):\n",
      " #   Column      Non-Null Count  Dtype \n",
      "---  ------      --------------  ----- \n",
      " 0   Territorio  19 non-null     object\n",
      " 1   Pobl        19 non-null     int32 \n",
      "dtypes: int32(1), object(1)\n",
      "memory usage: 356.0+ bytes\n"
     ]
    }
   ],
   "source": [
    "pobl_df.info()"
   ]
  },
  {
   "cell_type": "markdown",
   "metadata": {},
   "source": [
    "Combinamos las dos tablas (datos de COVID-19 y datos demográficos):"
   ]
  },
  {
   "cell_type": "code",
   "execution_count": 18,
   "metadata": {},
   "outputs": [],
   "source": [
    "uru_pobl_df = uru_df.merge(pobl_df, on='Territorio', how='inner')"
   ]
  },
  {
   "cell_type": "code",
   "execution_count": 19,
   "metadata": {},
   "outputs": [
    {
     "data": {
      "text/html": [
       "<div>\n",
       "<style scoped>\n",
       "    .dataframe tbody tr th:only-of-type {\n",
       "        vertical-align: middle;\n",
       "    }\n",
       "\n",
       "    .dataframe tbody tr th {\n",
       "        vertical-align: top;\n",
       "    }\n",
       "\n",
       "    .dataframe thead th {\n",
       "        text-align: right;\n",
       "    }\n",
       "</style>\n",
       "<table border=\"1\" class=\"dataframe\">\n",
       "  <thead>\n",
       "    <tr style=\"text-align: right;\">\n",
       "      <th></th>\n",
       "      <th>Unnamed: 0</th>\n",
       "      <th>Fecha</th>\n",
       "      <th>Indicador</th>\n",
       "      <th>Territorio</th>\n",
       "      <th>Valor</th>\n",
       "      <th>Pobl</th>\n",
       "    </tr>\n",
       "  </thead>\n",
       "  <tbody>\n",
       "    <tr>\n",
       "      <th>0</th>\n",
       "      <td>0</td>\n",
       "      <td>2020-04-09</td>\n",
       "      <td>Casos activos</td>\n",
       "      <td>Artigas</td>\n",
       "      <td>0</td>\n",
       "      <td>73378</td>\n",
       "    </tr>\n",
       "    <tr>\n",
       "      <th>1</th>\n",
       "      <td>19</td>\n",
       "      <td>2020-04-09</td>\n",
       "      <td>Casos recuperados</td>\n",
       "      <td>Artigas</td>\n",
       "      <td>0</td>\n",
       "      <td>73378</td>\n",
       "    </tr>\n",
       "    <tr>\n",
       "      <th>2</th>\n",
       "      <td>38</td>\n",
       "      <td>2020-04-09</td>\n",
       "      <td>Fallecidos</td>\n",
       "      <td>Artigas</td>\n",
       "      <td>0</td>\n",
       "      <td>73378</td>\n",
       "    </tr>\n",
       "    <tr>\n",
       "      <th>3</th>\n",
       "      <td>67</td>\n",
       "      <td>2020-04-10</td>\n",
       "      <td>Casos activos</td>\n",
       "      <td>Artigas</td>\n",
       "      <td>0</td>\n",
       "      <td>73378</td>\n",
       "    </tr>\n",
       "    <tr>\n",
       "      <th>4</th>\n",
       "      <td>86</td>\n",
       "      <td>2020-04-10</td>\n",
       "      <td>Casos recuperados</td>\n",
       "      <td>Artigas</td>\n",
       "      <td>0</td>\n",
       "      <td>73378</td>\n",
       "    </tr>\n",
       "    <tr>\n",
       "      <th>...</th>\n",
       "      <td>...</td>\n",
       "      <td>...</td>\n",
       "      <td>...</td>\n",
       "      <td>...</td>\n",
       "      <td>...</td>\n",
       "      <td>...</td>\n",
       "    </tr>\n",
       "    <tr>\n",
       "      <th>13219</th>\n",
       "      <td>15443</td>\n",
       "      <td>2020-11-23</td>\n",
       "      <td>Casos activos</td>\n",
       "      <td>Treinta y Tres</td>\n",
       "      <td>1</td>\n",
       "      <td>48134</td>\n",
       "    </tr>\n",
       "    <tr>\n",
       "      <th>13220</th>\n",
       "      <td>15462</td>\n",
       "      <td>2020-11-23</td>\n",
       "      <td>Casos recuperados</td>\n",
       "      <td>Treinta y Tres</td>\n",
       "      <td>113</td>\n",
       "      <td>48134</td>\n",
       "    </tr>\n",
       "    <tr>\n",
       "      <th>13221</th>\n",
       "      <td>15481</td>\n",
       "      <td>2020-11-23</td>\n",
       "      <td>Fallecidos</td>\n",
       "      <td>Treinta y Tres</td>\n",
       "      <td>2</td>\n",
       "      <td>48134</td>\n",
       "    </tr>\n",
       "    <tr>\n",
       "      <th>13222</th>\n",
       "      <td>15510</td>\n",
       "      <td>2020-11-24</td>\n",
       "      <td>Casos activos</td>\n",
       "      <td>Treinta y Tres</td>\n",
       "      <td>1</td>\n",
       "      <td>48134</td>\n",
       "    </tr>\n",
       "    <tr>\n",
       "      <th>13223</th>\n",
       "      <td>15533</td>\n",
       "      <td>2020-11-24</td>\n",
       "      <td>Fallecidos</td>\n",
       "      <td>Treinta y Tres</td>\n",
       "      <td>2</td>\n",
       "      <td>48134</td>\n",
       "    </tr>\n",
       "  </tbody>\n",
       "</table>\n",
       "<p>13224 rows × 6 columns</p>\n",
       "</div>"
      ],
      "text/plain": [
       "       Unnamed: 0       Fecha          Indicador      Territorio  Valor   Pobl\n",
       "0               0  2020-04-09      Casos activos         Artigas      0  73378\n",
       "1              19  2020-04-09  Casos recuperados         Artigas      0  73378\n",
       "2              38  2020-04-09         Fallecidos         Artigas      0  73378\n",
       "3              67  2020-04-10      Casos activos         Artigas      0  73378\n",
       "4              86  2020-04-10  Casos recuperados         Artigas      0  73378\n",
       "...           ...         ...                ...             ...    ...    ...\n",
       "13219       15443  2020-11-23      Casos activos  Treinta y Tres      1  48134\n",
       "13220       15462  2020-11-23  Casos recuperados  Treinta y Tres    113  48134\n",
       "13221       15481  2020-11-23         Fallecidos  Treinta y Tres      2  48134\n",
       "13222       15510  2020-11-24      Casos activos  Treinta y Tres      1  48134\n",
       "13223       15533  2020-11-24         Fallecidos  Treinta y Tres      2  48134\n",
       "\n",
       "[13224 rows x 6 columns]"
      ]
     },
     "execution_count": 19,
     "metadata": {},
     "output_type": "execute_result"
    }
   ],
   "source": [
    "uru_pobl_df"
   ]
  },
  {
   "cell_type": "markdown",
   "metadata": {},
   "source": [
    "Agregamos la columna \"Valor_tasa\" a partir de las columnas \"Valor\" y \"Pobl\". De esta manera, podemos graficar con datos de población afectada en proporción a la población de cada departamento."
   ]
  },
  {
   "cell_type": "code",
   "execution_count": 20,
   "metadata": {},
   "outputs": [],
   "source": [
    "tasa = 100000\n",
    "uru_pobl_df['Valor_tasa'] = (uru_pobl_df['Valor'] / uru_pobl_df['Pobl']) * tasa"
   ]
  },
  {
   "cell_type": "code",
   "execution_count": 21,
   "metadata": {},
   "outputs": [
    {
     "data": {
      "text/html": [
       "<div>\n",
       "<style scoped>\n",
       "    .dataframe tbody tr th:only-of-type {\n",
       "        vertical-align: middle;\n",
       "    }\n",
       "\n",
       "    .dataframe tbody tr th {\n",
       "        vertical-align: top;\n",
       "    }\n",
       "\n",
       "    .dataframe thead th {\n",
       "        text-align: right;\n",
       "    }\n",
       "</style>\n",
       "<table border=\"1\" class=\"dataframe\">\n",
       "  <thead>\n",
       "    <tr style=\"text-align: right;\">\n",
       "      <th></th>\n",
       "      <th>Unnamed: 0</th>\n",
       "      <th>Fecha</th>\n",
       "      <th>Indicador</th>\n",
       "      <th>Territorio</th>\n",
       "      <th>Valor</th>\n",
       "      <th>Pobl</th>\n",
       "      <th>Valor_tasa</th>\n",
       "    </tr>\n",
       "  </thead>\n",
       "  <tbody>\n",
       "    <tr>\n",
       "      <th>0</th>\n",
       "      <td>0</td>\n",
       "      <td>2020-04-09</td>\n",
       "      <td>Casos activos</td>\n",
       "      <td>Artigas</td>\n",
       "      <td>0</td>\n",
       "      <td>73378</td>\n",
       "      <td>0.000000</td>\n",
       "    </tr>\n",
       "    <tr>\n",
       "      <th>1</th>\n",
       "      <td>19</td>\n",
       "      <td>2020-04-09</td>\n",
       "      <td>Casos recuperados</td>\n",
       "      <td>Artigas</td>\n",
       "      <td>0</td>\n",
       "      <td>73378</td>\n",
       "      <td>0.000000</td>\n",
       "    </tr>\n",
       "    <tr>\n",
       "      <th>2</th>\n",
       "      <td>38</td>\n",
       "      <td>2020-04-09</td>\n",
       "      <td>Fallecidos</td>\n",
       "      <td>Artigas</td>\n",
       "      <td>0</td>\n",
       "      <td>73378</td>\n",
       "      <td>0.000000</td>\n",
       "    </tr>\n",
       "    <tr>\n",
       "      <th>3</th>\n",
       "      <td>67</td>\n",
       "      <td>2020-04-10</td>\n",
       "      <td>Casos activos</td>\n",
       "      <td>Artigas</td>\n",
       "      <td>0</td>\n",
       "      <td>73378</td>\n",
       "      <td>0.000000</td>\n",
       "    </tr>\n",
       "    <tr>\n",
       "      <th>4</th>\n",
       "      <td>86</td>\n",
       "      <td>2020-04-10</td>\n",
       "      <td>Casos recuperados</td>\n",
       "      <td>Artigas</td>\n",
       "      <td>0</td>\n",
       "      <td>73378</td>\n",
       "      <td>0.000000</td>\n",
       "    </tr>\n",
       "    <tr>\n",
       "      <th>...</th>\n",
       "      <td>...</td>\n",
       "      <td>...</td>\n",
       "      <td>...</td>\n",
       "      <td>...</td>\n",
       "      <td>...</td>\n",
       "      <td>...</td>\n",
       "      <td>...</td>\n",
       "    </tr>\n",
       "    <tr>\n",
       "      <th>13219</th>\n",
       "      <td>15443</td>\n",
       "      <td>2020-11-23</td>\n",
       "      <td>Casos activos</td>\n",
       "      <td>Treinta y Tres</td>\n",
       "      <td>1</td>\n",
       "      <td>48134</td>\n",
       "      <td>2.077534</td>\n",
       "    </tr>\n",
       "    <tr>\n",
       "      <th>13220</th>\n",
       "      <td>15462</td>\n",
       "      <td>2020-11-23</td>\n",
       "      <td>Casos recuperados</td>\n",
       "      <td>Treinta y Tres</td>\n",
       "      <td>113</td>\n",
       "      <td>48134</td>\n",
       "      <td>234.761291</td>\n",
       "    </tr>\n",
       "    <tr>\n",
       "      <th>13221</th>\n",
       "      <td>15481</td>\n",
       "      <td>2020-11-23</td>\n",
       "      <td>Fallecidos</td>\n",
       "      <td>Treinta y Tres</td>\n",
       "      <td>2</td>\n",
       "      <td>48134</td>\n",
       "      <td>4.155067</td>\n",
       "    </tr>\n",
       "    <tr>\n",
       "      <th>13222</th>\n",
       "      <td>15510</td>\n",
       "      <td>2020-11-24</td>\n",
       "      <td>Casos activos</td>\n",
       "      <td>Treinta y Tres</td>\n",
       "      <td>1</td>\n",
       "      <td>48134</td>\n",
       "      <td>2.077534</td>\n",
       "    </tr>\n",
       "    <tr>\n",
       "      <th>13223</th>\n",
       "      <td>15533</td>\n",
       "      <td>2020-11-24</td>\n",
       "      <td>Fallecidos</td>\n",
       "      <td>Treinta y Tres</td>\n",
       "      <td>2</td>\n",
       "      <td>48134</td>\n",
       "      <td>4.155067</td>\n",
       "    </tr>\n",
       "  </tbody>\n",
       "</table>\n",
       "<p>13224 rows × 7 columns</p>\n",
       "</div>"
      ],
      "text/plain": [
       "       Unnamed: 0       Fecha          Indicador      Territorio  Valor  \\\n",
       "0               0  2020-04-09      Casos activos         Artigas      0   \n",
       "1              19  2020-04-09  Casos recuperados         Artigas      0   \n",
       "2              38  2020-04-09         Fallecidos         Artigas      0   \n",
       "3              67  2020-04-10      Casos activos         Artigas      0   \n",
       "4              86  2020-04-10  Casos recuperados         Artigas      0   \n",
       "...           ...         ...                ...             ...    ...   \n",
       "13219       15443  2020-11-23      Casos activos  Treinta y Tres      1   \n",
       "13220       15462  2020-11-23  Casos recuperados  Treinta y Tres    113   \n",
       "13221       15481  2020-11-23         Fallecidos  Treinta y Tres      2   \n",
       "13222       15510  2020-11-24      Casos activos  Treinta y Tres      1   \n",
       "13223       15533  2020-11-24         Fallecidos  Treinta y Tres      2   \n",
       "\n",
       "        Pobl  Valor_tasa  \n",
       "0      73378    0.000000  \n",
       "1      73378    0.000000  \n",
       "2      73378    0.000000  \n",
       "3      73378    0.000000  \n",
       "4      73378    0.000000  \n",
       "...      ...         ...  \n",
       "13219  48134    2.077534  \n",
       "13220  48134  234.761291  \n",
       "13221  48134    4.155067  \n",
       "13222  48134    2.077534  \n",
       "13223  48134    4.155067  \n",
       "\n",
       "[13224 rows x 7 columns]"
      ]
     },
     "execution_count": 21,
     "metadata": {},
     "output_type": "execute_result"
    }
   ],
   "source": [
    "uru_pobl_df"
   ]
  },
  {
   "cell_type": "markdown",
   "metadata": {},
   "source": [
    "<a id='section_3'></a>"
   ]
  },
  {
   "cell_type": "markdown",
   "metadata": {},
   "source": [
    "### 3. Datos geográficos"
   ]
  },
  {
   "cell_type": "markdown",
   "metadata": {},
   "source": [
    "Los datos vectorales geográficos provienen de la [GADM (Database of Global Administrative Areas)](https://gadm.org/download_country_v3.html). Geopandas nos permite importar esos datos a una tabla (dataframe) en pandas que luego combinamos con la tabla anterior *uru_pobl_df*."
   ]
  },
  {
   "cell_type": "code",
   "execution_count": 22,
   "metadata": {},
   "outputs": [
    {
     "data": {
      "text/html": [
       "<div>\n",
       "<style scoped>\n",
       "    .dataframe tbody tr th:only-of-type {\n",
       "        vertical-align: middle;\n",
       "    }\n",
       "\n",
       "    .dataframe tbody tr th {\n",
       "        vertical-align: top;\n",
       "    }\n",
       "\n",
       "    .dataframe thead th {\n",
       "        text-align: right;\n",
       "    }\n",
       "</style>\n",
       "<table border=\"1\" class=\"dataframe\">\n",
       "  <thead>\n",
       "    <tr style=\"text-align: right;\">\n",
       "      <th></th>\n",
       "      <th>ID_0</th>\n",
       "      <th>ISO</th>\n",
       "      <th>NAME_0</th>\n",
       "      <th>ID_1</th>\n",
       "      <th>NAME_1</th>\n",
       "      <th>TYPE_1</th>\n",
       "      <th>ENGTYPE_1</th>\n",
       "      <th>NL_NAME_1</th>\n",
       "      <th>VARNAME_1</th>\n",
       "      <th>geometry</th>\n",
       "    </tr>\n",
       "  </thead>\n",
       "  <tbody>\n",
       "    <tr>\n",
       "      <th>0</th>\n",
       "      <td>245</td>\n",
       "      <td>URY</td>\n",
       "      <td>Uruguay</td>\n",
       "      <td>1</td>\n",
       "      <td>Artigas</td>\n",
       "      <td>Departamento</td>\n",
       "      <td>Department</td>\n",
       "      <td>None</td>\n",
       "      <td>None</td>\n",
       "      <td>POLYGON ((-56.97895 -30.09347, -56.95917 -30.0...</td>\n",
       "    </tr>\n",
       "    <tr>\n",
       "      <th>1</th>\n",
       "      <td>245</td>\n",
       "      <td>URY</td>\n",
       "      <td>Uruguay</td>\n",
       "      <td>2</td>\n",
       "      <td>Canelones</td>\n",
       "      <td>Departamento</td>\n",
       "      <td>Department</td>\n",
       "      <td>None</td>\n",
       "      <td>None</td>\n",
       "      <td>MULTIPOLYGON (((-55.91930 -34.93597, -55.91930...</td>\n",
       "    </tr>\n",
       "    <tr>\n",
       "      <th>2</th>\n",
       "      <td>245</td>\n",
       "      <td>URY</td>\n",
       "      <td>Uruguay</td>\n",
       "      <td>3</td>\n",
       "      <td>Cerro Largo</td>\n",
       "      <td>Departamento</td>\n",
       "      <td>Department</td>\n",
       "      <td>None</td>\n",
       "      <td>None</td>\n",
       "      <td>POLYGON ((-54.09551 -31.90558, -54.08907 -31.9...</td>\n",
       "    </tr>\n",
       "    <tr>\n",
       "      <th>3</th>\n",
       "      <td>245</td>\n",
       "      <td>URY</td>\n",
       "      <td>Uruguay</td>\n",
       "      <td>4</td>\n",
       "      <td>Colonia</td>\n",
       "      <td>Departamento</td>\n",
       "      <td>Department</td>\n",
       "      <td>None</td>\n",
       "      <td>None</td>\n",
       "      <td>MULTIPOLYGON (((-57.88820 -34.47097, -57.88820...</td>\n",
       "    </tr>\n",
       "    <tr>\n",
       "      <th>4</th>\n",
       "      <td>245</td>\n",
       "      <td>URY</td>\n",
       "      <td>Uruguay</td>\n",
       "      <td>5</td>\n",
       "      <td>Durazno</td>\n",
       "      <td>Departamento</td>\n",
       "      <td>Department</td>\n",
       "      <td>None</td>\n",
       "      <td>None</td>\n",
       "      <td>POLYGON ((-55.42105 -32.40704, -55.40257 -32.4...</td>\n",
       "    </tr>\n",
       "  </tbody>\n",
       "</table>\n",
       "</div>"
      ],
      "text/plain": [
       "   ID_0  ISO   NAME_0  ID_1       NAME_1        TYPE_1   ENGTYPE_1 NL_NAME_1  \\\n",
       "0   245  URY  Uruguay     1      Artigas  Departamento  Department      None   \n",
       "1   245  URY  Uruguay     2    Canelones  Departamento  Department      None   \n",
       "2   245  URY  Uruguay     3  Cerro Largo  Departamento  Department      None   \n",
       "3   245  URY  Uruguay     4      Colonia  Departamento  Department      None   \n",
       "4   245  URY  Uruguay     5      Durazno  Departamento  Department      None   \n",
       "\n",
       "  VARNAME_1                                           geometry  \n",
       "0      None  POLYGON ((-56.97895 -30.09347, -56.95917 -30.0...  \n",
       "1      None  MULTIPOLYGON (((-55.91930 -34.93597, -55.91930...  \n",
       "2      None  POLYGON ((-54.09551 -31.90558, -54.08907 -31.9...  \n",
       "3      None  MULTIPOLYGON (((-57.88820 -34.47097, -57.88820...  \n",
       "4      None  POLYGON ((-55.42105 -32.40704, -55.40257 -32.4...  "
      ]
     },
     "execution_count": 22,
     "metadata": {},
     "output_type": "execute_result"
    }
   ],
   "source": [
    "uru_geom = gpd.read_file('shapefiles/URY_adm/URY_adm1.shp')\n",
    "uru_geom.head()"
   ]
  },
  {
   "cell_type": "code",
   "execution_count": 23,
   "metadata": {},
   "outputs": [
    {
     "data": {
      "text/plain": [
       "<AxesSubplot:>"
      ]
     },
     "execution_count": 23,
     "metadata": {},
     "output_type": "execute_result"
    },
    {
     "data": {
      "image/png": "[encoded data removed]",
      "text/plain": [
       "<Figure size 432x288 with 1 Axes>"
      ]
     },
     "metadata": {
      "needs_background": "light"
     },
     "output_type": "display_data"
    }
   ],
   "source": [
    "uru_geom.plot()"
   ]
  },
  {
   "cell_type": "code",
   "execution_count": 24,
   "metadata": {},
   "outputs": [
    {
     "data": {
      "text/plain": [
       "<AxesSubplot:>"
      ]
     },
     "execution_count": 24,
     "metadata": {},
     "output_type": "execute_result"
    },
    {
     "data": {
      "image/png": "[encoded data removed]",
      "text/plain": [
       "<Figure size 432x288 with 1 Axes>"
      ]
     },
     "metadata": {
      "needs_background": "light"
     },
     "output_type": "display_data"
    }
   ],
   "source": [
    "uru_geom[uru_geom['NAME_1'] == 'Rivera'].plot()"
   ]
  },
  {
   "cell_type": "markdown",
   "metadata": {},
   "source": [
    "La geometría de Rivera en la tabla incluye parte de la Laguna Merín. Quitamos esa información:"
   ]
  },
  {
   "cell_type": "code",
   "execution_count": 25,
   "metadata": {},
   "outputs": [],
   "source": [
    "uru_geom.loc[uru_geom['NAME_1'] == 'Rivera', 'geometry'] = \\\n",
    "    uru_geom.loc[uru_geom['NAME_1'] == 'Rivera', 'geometry'].values[0][1]"
   ]
  },
  {
   "cell_type": "code",
   "execution_count": 26,
   "metadata": {},
   "outputs": [
    {
     "data": {
      "text/plain": [
       "<AxesSubplot:>"
      ]
     },
     "execution_count": 26,
     "metadata": {},
     "output_type": "execute_result"
    },
    {
     "data": {
      "image/png": "[encoded data removed]",
      "text/plain": [
       "<Figure size 432x288 with 1 Axes>"
      ]
     },
     "metadata": {
      "needs_background": "light"
     },
     "output_type": "display_data"
    }
   ],
   "source": [
    "uru_geom.loc[uru_geom['NAME_1'] == 'Rivera', 'geometry'].plot()"
   ]
  },
  {
   "cell_type": "markdown",
   "metadata": {},
   "source": [
    "<a id='section_4'></a>"
   ]
  },
  {
   "cell_type": "markdown",
   "metadata": {},
   "source": [
    "## Mapas"
   ]
  },
  {
   "cell_type": "markdown",
   "metadata": {},
   "source": [
    "### 4. Total de casos activos"
   ]
  },
  {
   "cell_type": "markdown",
   "metadata": {},
   "source": [
    "Antes de construir los mapas, hay que preparar los dataframes (uru_pobl_df y uru_geom). Para esto se utiliza la clase **DataFramePrepper**."
   ]
  },
  {
   "cell_type": "code",
   "execution_count": 27,
   "metadata": {},
   "outputs": [],
   "source": [
    "prepper = DataFramePrepper(info_df=uru_pobl_df, geom_df=uru_geom)"
   ]
  },
  {
   "cell_type": "markdown",
   "metadata": {},
   "source": [
    "La tabla de datos necesita tener forma \"wide\" con las locaciones en el index y las fechas en las columnas. El método *prep_info_df* se encarga de esa transformación, con el parámetro *category* representando la categoría de valores que queremos graficar. "
   ]
  },
  {
   "cell_type": "code",
   "execution_count": 28,
   "metadata": {},
   "outputs": [
    {
     "data": {
      "text/html": [
       "<div>\n",
       "<style scoped>\n",
       "    .dataframe tbody tr th:only-of-type {\n",
       "        vertical-align: middle;\n",
       "    }\n",
       "\n",
       "    .dataframe tbody tr th {\n",
       "        vertical-align: top;\n",
       "    }\n",
       "\n",
       "    .dataframe thead th {\n",
       "        text-align: right;\n",
       "    }\n",
       "</style>\n",
       "<table border=\"1\" class=\"dataframe\">\n",
       "  <thead>\n",
       "    <tr style=\"text-align: right;\">\n",
       "      <th>date</th>\n",
       "      <th>2020-04-09</th>\n",
       "      <th>2020-04-10</th>\n",
       "      <th>2020-04-11</th>\n",
       "      <th>2020-04-12</th>\n",
       "      <th>2020-04-13</th>\n",
       "      <th>2020-04-14</th>\n",
       "      <th>2020-04-15</th>\n",
       "      <th>2020-04-16</th>\n",
       "      <th>2020-04-17</th>\n",
       "      <th>2020-04-18</th>\n",
       "      <th>...</th>\n",
       "      <th>2020-11-15</th>\n",
       "      <th>2020-11-16</th>\n",
       "      <th>2020-11-17</th>\n",
       "      <th>2020-11-18</th>\n",
       "      <th>2020-11-19</th>\n",
       "      <th>2020-11-20</th>\n",
       "      <th>2020-11-21</th>\n",
       "      <th>2020-11-22</th>\n",
       "      <th>2020-11-23</th>\n",
       "      <th>2020-11-24</th>\n",
       "    </tr>\n",
       "    <tr>\n",
       "      <th>location</th>\n",
       "      <th></th>\n",
       "      <th></th>\n",
       "      <th></th>\n",
       "      <th></th>\n",
       "      <th></th>\n",
       "      <th></th>\n",
       "      <th></th>\n",
       "      <th></th>\n",
       "      <th></th>\n",
       "      <th></th>\n",
       "      <th></th>\n",
       "      <th></th>\n",
       "      <th></th>\n",
       "      <th></th>\n",
       "      <th></th>\n",
       "      <th></th>\n",
       "      <th></th>\n",
       "      <th></th>\n",
       "      <th></th>\n",
       "      <th></th>\n",
       "      <th></th>\n",
       "    </tr>\n",
       "  </thead>\n",
       "  <tbody>\n",
       "    <tr>\n",
       "      <th>Artigas</th>\n",
       "      <td>0</td>\n",
       "      <td>0</td>\n",
       "      <td>0</td>\n",
       "      <td>0</td>\n",
       "      <td>0</td>\n",
       "      <td>0</td>\n",
       "      <td>0</td>\n",
       "      <td>0</td>\n",
       "      <td>0</td>\n",
       "      <td>0</td>\n",
       "      <td>...</td>\n",
       "      <td>9</td>\n",
       "      <td>8</td>\n",
       "      <td>10</td>\n",
       "      <td>10</td>\n",
       "      <td>10</td>\n",
       "      <td>14</td>\n",
       "      <td>14</td>\n",
       "      <td>13</td>\n",
       "      <td>15</td>\n",
       "      <td>15</td>\n",
       "    </tr>\n",
       "    <tr>\n",
       "      <th>Canelones</th>\n",
       "      <td>37</td>\n",
       "      <td>37</td>\n",
       "      <td>34</td>\n",
       "      <td>32</td>\n",
       "      <td>31</td>\n",
       "      <td>29</td>\n",
       "      <td>27</td>\n",
       "      <td>27</td>\n",
       "      <td>25</td>\n",
       "      <td>26</td>\n",
       "      <td>...</td>\n",
       "      <td>87</td>\n",
       "      <td>95</td>\n",
       "      <td>105</td>\n",
       "      <td>115</td>\n",
       "      <td>127</td>\n",
       "      <td>139</td>\n",
       "      <td>158</td>\n",
       "      <td>160</td>\n",
       "      <td>166</td>\n",
       "      <td>181</td>\n",
       "    </tr>\n",
       "    <tr>\n",
       "      <th>Cerro Largo</th>\n",
       "      <td>0</td>\n",
       "      <td>0</td>\n",
       "      <td>0</td>\n",
       "      <td>0</td>\n",
       "      <td>0</td>\n",
       "      <td>0</td>\n",
       "      <td>0</td>\n",
       "      <td>0</td>\n",
       "      <td>0</td>\n",
       "      <td>0</td>\n",
       "      <td>...</td>\n",
       "      <td>73</td>\n",
       "      <td>75</td>\n",
       "      <td>76</td>\n",
       "      <td>79</td>\n",
       "      <td>72</td>\n",
       "      <td>77</td>\n",
       "      <td>73</td>\n",
       "      <td>65</td>\n",
       "      <td>51</td>\n",
       "      <td>46</td>\n",
       "    </tr>\n",
       "    <tr>\n",
       "      <th>Colonia</th>\n",
       "      <td>4</td>\n",
       "      <td>5</td>\n",
       "      <td>5</td>\n",
       "      <td>5</td>\n",
       "      <td>5</td>\n",
       "      <td>5</td>\n",
       "      <td>5</td>\n",
       "      <td>5</td>\n",
       "      <td>5</td>\n",
       "      <td>5</td>\n",
       "      <td>...</td>\n",
       "      <td>41</td>\n",
       "      <td>41</td>\n",
       "      <td>48</td>\n",
       "      <td>51</td>\n",
       "      <td>52</td>\n",
       "      <td>45</td>\n",
       "      <td>49</td>\n",
       "      <td>45</td>\n",
       "      <td>40</td>\n",
       "      <td>39</td>\n",
       "    </tr>\n",
       "    <tr>\n",
       "      <th>Durazno</th>\n",
       "      <td>0</td>\n",
       "      <td>0</td>\n",
       "      <td>0</td>\n",
       "      <td>0</td>\n",
       "      <td>0</td>\n",
       "      <td>0</td>\n",
       "      <td>0</td>\n",
       "      <td>1</td>\n",
       "      <td>1</td>\n",
       "      <td>1</td>\n",
       "      <td>...</td>\n",
       "      <td>0</td>\n",
       "      <td>0</td>\n",
       "      <td>0</td>\n",
       "      <td>0</td>\n",
       "      <td>0</td>\n",
       "      <td>0</td>\n",
       "      <td>0</td>\n",
       "      <td>0</td>\n",
       "      <td>0</td>\n",
       "      <td>0</td>\n",
       "    </tr>\n",
       "  </tbody>\n",
       "</table>\n",
       "<p>5 rows × 230 columns</p>\n",
       "</div>"
      ],
      "text/plain": [
       "date         2020-04-09  2020-04-10  2020-04-11  2020-04-12  2020-04-13  \\\n",
       "location                                                                  \n",
       "Artigas               0           0           0           0           0   \n",
       "Canelones            37          37          34          32          31   \n",
       "Cerro Largo           0           0           0           0           0   \n",
       "Colonia               4           5           5           5           5   \n",
       "Durazno               0           0           0           0           0   \n",
       "\n",
       "date         2020-04-14  2020-04-15  2020-04-16  2020-04-17  2020-04-18  ...  \\\n",
       "location                                                                 ...   \n",
       "Artigas               0           0           0           0           0  ...   \n",
       "Canelones            29          27          27          25          26  ...   \n",
       "Cerro Largo           0           0           0           0           0  ...   \n",
       "Colonia               5           5           5           5           5  ...   \n",
       "Durazno               0           0           1           1           1  ...   \n",
       "\n",
       "date         2020-11-15  2020-11-16  2020-11-17  2020-11-18  2020-11-19  \\\n",
       "location                                                                  \n",
       "Artigas               9           8          10          10          10   \n",
       "Canelones            87          95         105         115         127   \n",
       "Cerro Largo          73          75          76          79          72   \n",
       "Colonia              41          41          48          51          52   \n",
       "Durazno               0           0           0           0           0   \n",
       "\n",
       "date         2020-11-20  2020-11-21  2020-11-22  2020-11-23  2020-11-24  \n",
       "location                                                                 \n",
       "Artigas              14          14          13          15          15  \n",
       "Canelones           139         158         160         166         181  \n",
       "Cerro Largo          77          73          65          51          46  \n",
       "Colonia              45          49          45          40          39  \n",
       "Durazno               0           0           0           0           0  \n",
       "\n",
       "[5 rows x 230 columns]"
      ]
     },
     "execution_count": 28,
     "metadata": {},
     "output_type": "execute_result"
    }
   ],
   "source": [
    "ready_info_df = prepper.prep_info_df(category='Casos activos', col_dates='Fecha', \n",
    "                                col_location='Territorio', col_categories='Indicador', \n",
    "                                col_values='Valor', long=True)\n",
    "ready_info_df.head()"
   ]
  },
  {
   "cell_type": "markdown",
   "metadata": {},
   "source": [
    "El método *prep_geom_df* toma las columnas con los nombres de las locaciones ('NAME_1') y de los vectores geoespaciales ('geometry'). Retorna una tabla con las locaciones en el index."
   ]
  },
  {
   "cell_type": "code",
   "execution_count": 29,
   "metadata": {},
   "outputs": [
    {
     "data": {
      "text/html": [
       "<div>\n",
       "<style scoped>\n",
       "    .dataframe tbody tr th:only-of-type {\n",
       "        vertical-align: middle;\n",
       "    }\n",
       "\n",
       "    .dataframe tbody tr th {\n",
       "        vertical-align: top;\n",
       "    }\n",
       "\n",
       "    .dataframe thead th {\n",
       "        text-align: right;\n",
       "    }\n",
       "</style>\n",
       "<table border=\"1\" class=\"dataframe\">\n",
       "  <thead>\n",
       "    <tr style=\"text-align: right;\">\n",
       "      <th></th>\n",
       "      <th>geometry</th>\n",
       "    </tr>\n",
       "    <tr>\n",
       "      <th>location</th>\n",
       "      <th></th>\n",
       "    </tr>\n",
       "  </thead>\n",
       "  <tbody>\n",
       "    <tr>\n",
       "      <th>Artigas</th>\n",
       "      <td>POLYGON ((-56.97895 -30.09347, -56.95917 -30.0...</td>\n",
       "    </tr>\n",
       "    <tr>\n",
       "      <th>Canelones</th>\n",
       "      <td>MULTIPOLYGON (((-55.91930 -34.93597, -55.91930...</td>\n",
       "    </tr>\n",
       "    <tr>\n",
       "      <th>Cerro Largo</th>\n",
       "      <td>POLYGON ((-54.09551 -31.90558, -54.08907 -31.9...</td>\n",
       "    </tr>\n",
       "    <tr>\n",
       "      <th>Colonia</th>\n",
       "      <td>MULTIPOLYGON (((-57.88820 -34.47097, -57.88820...</td>\n",
       "    </tr>\n",
       "    <tr>\n",
       "      <th>Durazno</th>\n",
       "      <td>POLYGON ((-55.42105 -32.40704, -55.40257 -32.4...</td>\n",
       "    </tr>\n",
       "  </tbody>\n",
       "</table>\n",
       "</div>"
      ],
      "text/plain": [
       "                                                      geometry\n",
       "location                                                      \n",
       "Artigas      POLYGON ((-56.97895 -30.09347, -56.95917 -30.0...\n",
       "Canelones    MULTIPOLYGON (((-55.91930 -34.93597, -55.91930...\n",
       "Cerro Largo  POLYGON ((-54.09551 -31.90558, -54.08907 -31.9...\n",
       "Colonia      MULTIPOLYGON (((-57.88820 -34.47097, -57.88820...\n",
       "Durazno      POLYGON ((-55.42105 -32.40704, -55.40257 -32.4..."
      ]
     },
     "execution_count": 29,
     "metadata": {},
     "output_type": "execute_result"
    }
   ],
   "source": [
    "ready_geom_df = prepper.prep_geom_df(location_col='NAME_1', geometry_col='geometry')\n",
    "ready_geom_df.head()"
   ]
  },
  {
   "cell_type": "markdown",
   "metadata": {},
   "source": [
    "La función *merge_info_geom* combina las tablas *ready_info_df* y *ready_geom_df*."
   ]
  },
  {
   "cell_type": "code",
   "execution_count": 30,
   "metadata": {
    "scrolled": true
   },
   "outputs": [
    {
     "data": {
      "text/html": [
       "<div>\n",
       "<style scoped>\n",
       "    .dataframe tbody tr th:only-of-type {\n",
       "        vertical-align: middle;\n",
       "    }\n",
       "\n",
       "    .dataframe tbody tr th {\n",
       "        vertical-align: top;\n",
       "    }\n",
       "\n",
       "    .dataframe thead th {\n",
       "        text-align: right;\n",
       "    }\n",
       "</style>\n",
       "<table border=\"1\" class=\"dataframe\">\n",
       "  <thead>\n",
       "    <tr style=\"text-align: right;\">\n",
       "      <th></th>\n",
       "      <th>geometry</th>\n",
       "      <th>2020-04-09</th>\n",
       "      <th>2020-04-10</th>\n",
       "      <th>2020-04-11</th>\n",
       "      <th>2020-04-12</th>\n",
       "      <th>2020-04-13</th>\n",
       "      <th>2020-04-14</th>\n",
       "      <th>2020-04-15</th>\n",
       "      <th>2020-04-16</th>\n",
       "      <th>2020-04-17</th>\n",
       "      <th>...</th>\n",
       "      <th>2020-11-15</th>\n",
       "      <th>2020-11-16</th>\n",
       "      <th>2020-11-17</th>\n",
       "      <th>2020-11-18</th>\n",
       "      <th>2020-11-19</th>\n",
       "      <th>2020-11-20</th>\n",
       "      <th>2020-11-21</th>\n",
       "      <th>2020-11-22</th>\n",
       "      <th>2020-11-23</th>\n",
       "      <th>2020-11-24</th>\n",
       "    </tr>\n",
       "    <tr>\n",
       "      <th>location</th>\n",
       "      <th></th>\n",
       "      <th></th>\n",
       "      <th></th>\n",
       "      <th></th>\n",
       "      <th></th>\n",
       "      <th></th>\n",
       "      <th></th>\n",
       "      <th></th>\n",
       "      <th></th>\n",
       "      <th></th>\n",
       "      <th></th>\n",
       "      <th></th>\n",
       "      <th></th>\n",
       "      <th></th>\n",
       "      <th></th>\n",
       "      <th></th>\n",
       "      <th></th>\n",
       "      <th></th>\n",
       "      <th></th>\n",
       "      <th></th>\n",
       "      <th></th>\n",
       "    </tr>\n",
       "  </thead>\n",
       "  <tbody>\n",
       "    <tr>\n",
       "      <th>Artigas</th>\n",
       "      <td>POLYGON ((-56.97895 -30.09347, -56.95917 -30.0...</td>\n",
       "      <td>0</td>\n",
       "      <td>0</td>\n",
       "      <td>0</td>\n",
       "      <td>0</td>\n",
       "      <td>0</td>\n",
       "      <td>0</td>\n",
       "      <td>0</td>\n",
       "      <td>0</td>\n",
       "      <td>0</td>\n",
       "      <td>...</td>\n",
       "      <td>9</td>\n",
       "      <td>8</td>\n",
       "      <td>10</td>\n",
       "      <td>10</td>\n",
       "      <td>10</td>\n",
       "      <td>14</td>\n",
       "      <td>14</td>\n",
       "      <td>13</td>\n",
       "      <td>15</td>\n",
       "      <td>15</td>\n",
       "    </tr>\n",
       "    <tr>\n",
       "      <th>Canelones</th>\n",
       "      <td>MULTIPOLYGON (((-55.91930 -34.93597, -55.91930...</td>\n",
       "      <td>37</td>\n",
       "      <td>37</td>\n",
       "      <td>34</td>\n",
       "      <td>32</td>\n",
       "      <td>31</td>\n",
       "      <td>29</td>\n",
       "      <td>27</td>\n",
       "      <td>27</td>\n",
       "      <td>25</td>\n",
       "      <td>...</td>\n",
       "      <td>87</td>\n",
       "      <td>95</td>\n",
       "      <td>105</td>\n",
       "      <td>115</td>\n",
       "      <td>127</td>\n",
       "      <td>139</td>\n",
       "      <td>158</td>\n",
       "      <td>160</td>\n",
       "      <td>166</td>\n",
       "      <td>181</td>\n",
       "    </tr>\n",
       "    <tr>\n",
       "      <th>Cerro Largo</th>\n",
       "      <td>POLYGON ((-54.09551 -31.90558, -54.08907 -31.9...</td>\n",
       "      <td>0</td>\n",
       "      <td>0</td>\n",
       "      <td>0</td>\n",
       "      <td>0</td>\n",
       "      <td>0</td>\n",
       "      <td>0</td>\n",
       "      <td>0</td>\n",
       "      <td>0</td>\n",
       "      <td>0</td>\n",
       "      <td>...</td>\n",
       "      <td>73</td>\n",
       "      <td>75</td>\n",
       "      <td>76</td>\n",
       "      <td>79</td>\n",
       "      <td>72</td>\n",
       "      <td>77</td>\n",
       "      <td>73</td>\n",
       "      <td>65</td>\n",
       "      <td>51</td>\n",
       "      <td>46</td>\n",
       "    </tr>\n",
       "    <tr>\n",
       "      <th>Colonia</th>\n",
       "      <td>MULTIPOLYGON (((-57.88820 -34.47097, -57.88820...</td>\n",
       "      <td>4</td>\n",
       "      <td>5</td>\n",
       "      <td>5</td>\n",
       "      <td>5</td>\n",
       "      <td>5</td>\n",
       "      <td>5</td>\n",
       "      <td>5</td>\n",
       "      <td>5</td>\n",
       "      <td>5</td>\n",
       "      <td>...</td>\n",
       "      <td>41</td>\n",
       "      <td>41</td>\n",
       "      <td>48</td>\n",
       "      <td>51</td>\n",
       "      <td>52</td>\n",
       "      <td>45</td>\n",
       "      <td>49</td>\n",
       "      <td>45</td>\n",
       "      <td>40</td>\n",
       "      <td>39</td>\n",
       "    </tr>\n",
       "    <tr>\n",
       "      <th>Durazno</th>\n",
       "      <td>POLYGON ((-55.42105 -32.40704, -55.40257 -32.4...</td>\n",
       "      <td>0</td>\n",
       "      <td>0</td>\n",
       "      <td>0</td>\n",
       "      <td>0</td>\n",
       "      <td>0</td>\n",
       "      <td>0</td>\n",
       "      <td>0</td>\n",
       "      <td>1</td>\n",
       "      <td>1</td>\n",
       "      <td>...</td>\n",
       "      <td>0</td>\n",
       "      <td>0</td>\n",
       "      <td>0</td>\n",
       "      <td>0</td>\n",
       "      <td>0</td>\n",
       "      <td>0</td>\n",
       "      <td>0</td>\n",
       "      <td>0</td>\n",
       "      <td>0</td>\n",
       "      <td>0</td>\n",
       "    </tr>\n",
       "  </tbody>\n",
       "</table>\n",
       "<p>5 rows × 231 columns</p>\n",
       "</div>"
      ],
      "text/plain": [
       "                                                      geometry  2020-04-09  \\\n",
       "location                                                                     \n",
       "Artigas      POLYGON ((-56.97895 -30.09347, -56.95917 -30.0...           0   \n",
       "Canelones    MULTIPOLYGON (((-55.91930 -34.93597, -55.91930...          37   \n",
       "Cerro Largo  POLYGON ((-54.09551 -31.90558, -54.08907 -31.9...           0   \n",
       "Colonia      MULTIPOLYGON (((-57.88820 -34.47097, -57.88820...           4   \n",
       "Durazno      POLYGON ((-55.42105 -32.40704, -55.40257 -32.4...           0   \n",
       "\n",
       "             2020-04-10  2020-04-11  2020-04-12  2020-04-13  2020-04-14  \\\n",
       "location                                                                  \n",
       "Artigas               0           0           0           0           0   \n",
       "Canelones            37          34          32          31          29   \n",
       "Cerro Largo           0           0           0           0           0   \n",
       "Colonia               5           5           5           5           5   \n",
       "Durazno               0           0           0           0           0   \n",
       "\n",
       "             2020-04-15  2020-04-16  2020-04-17  ...  2020-11-15  2020-11-16  \\\n",
       "location                                         ...                           \n",
       "Artigas               0           0           0  ...           9           8   \n",
       "Canelones            27          27          25  ...          87          95   \n",
       "Cerro Largo           0           0           0  ...          73          75   \n",
       "Colonia               5           5           5  ...          41          41   \n",
       "Durazno               0           1           1  ...           0           0   \n",
       "\n",
       "             2020-11-17  2020-11-18  2020-11-19  2020-11-20  2020-11-21  \\\n",
       "location                                                                  \n",
       "Artigas              10          10          10          14          14   \n",
       "Canelones           105         115         127         139         158   \n",
       "Cerro Largo          76          79          72          77          73   \n",
       "Colonia              48          51          52          45          49   \n",
       "Durazno               0           0           0           0           0   \n",
       "\n",
       "             2020-11-22  2020-11-23  2020-11-24  \n",
       "location                                         \n",
       "Artigas              13          15          15  \n",
       "Canelones           160         166         181  \n",
       "Cerro Largo          65          51          46  \n",
       "Colonia              45          40          39  \n",
       "Durazno               0           0           0  \n",
       "\n",
       "[5 rows x 231 columns]"
      ]
     },
     "execution_count": 30,
     "metadata": {},
     "output_type": "execute_result"
    }
   ],
   "source": [
    "merged_df = prepper.merge_info_geom()\n",
    "merged_df.head()"
   ]
  },
  {
   "cell_type": "markdown",
   "metadata": {},
   "source": [
    "La clase *ChoroMapBuilder* contiene los métodos gráficos, de manipulación de fechas y de exportación necesarios para crear los mapas. Su método principal es *make_map*. Éste llama a todos los otros métodos necesarios para obtener un mapa animado."
   ]
  },
  {
   "cell_type": "code",
   "execution_count": 31,
   "metadata": {},
   "outputs": [],
   "source": [
    "builder = ChoroMapBuilder(merged_df)"
   ]
  },
  {
   "cell_type": "code",
   "execution_count": 32,
   "metadata": {
    "scrolled": true
   },
   "outputs": [
    {
     "data": {
      "text/html": [
       "<video width='640' height='480' controls>\n",
       "                <source src='charts/exports/casos_activos.mp4'>\n",
       "                Your browser does not support the video tag.</video>"
      ],
      "text/plain": [
       "<IPython.core.display.HTML object>"
      ]
     },
     "execution_count": 32,
     "metadata": {},
     "output_type": "execute_result"
    }
   ],
   "source": [
    "builder.make_map(title=\"Total de casos activos de COVID-19 por departamento\", \n",
    "                        subtitle='Fuente: SINAE - https://catalogodatos.gub.uy/dataset/sinae01-covid19', \n",
    "                        unit='Número de casos activos', \n",
    "                        fig_size=(10,8), lang='es', save_name='casos_activos', fps=6)"
   ]
  },
  {
   "cell_type": "markdown",
   "metadata": {},
   "source": [
    "<a id='section_5'></a>"
   ]
  },
  {
   "cell_type": "markdown",
   "metadata": {},
   "source": [
    "### 5. Tasa de casos activos"
   ]
  },
  {
   "cell_type": "code",
   "execution_count": 33,
   "metadata": {},
   "outputs": [],
   "source": [
    "ready_info_df = prepper.prep_info_df(category='Casos activos', col_dates='Fecha', \n",
    "                               col_location='Territorio', col_categories='Indicador',\n",
    "                               col_values='Valor_tasa', long=True)"
   ]
  },
  {
   "cell_type": "code",
   "execution_count": 34,
   "metadata": {},
   "outputs": [],
   "source": [
    "merged_df = prepper.merge_info_geom()"
   ]
  },
  {
   "cell_type": "code",
   "execution_count": 35,
   "metadata": {},
   "outputs": [],
   "source": [
    "builder = ChoroMapBuilder(merged_df)"
   ]
  },
  {
   "cell_type": "code",
   "execution_count": 36,
   "metadata": {},
   "outputs": [
    {
     "data": {
      "text/html": [
       "<video width='640' height='480' controls>\n",
       "                <source src='charts/exports/activos_tasa.mp4'>\n",
       "                Your browser does not support the video tag.</video>"
      ],
      "text/plain": [
       "<IPython.core.display.HTML object>"
      ]
     },
     "execution_count": 36,
     "metadata": {},
     "output_type": "execute_result"
    }
   ],
   "source": [
    "builder.make_map(title=\"Tasa de casos activos de COVID-19 por departamento\", \n",
    "                        subtitle='Fuente: SINAE - https://catalogodatos.gub.uy/dataset/sinae01-covid19', \n",
    "                        unit='Casos activos cada 100.000 personas', \n",
    "                        fig_size=(10,8), lang='es', save_name='activos_tasa', fps=6)"
   ]
  },
  {
   "cell_type": "markdown",
   "metadata": {},
   "source": [
    "<a id='section_6'></a>"
   ]
  },
  {
   "cell_type": "markdown",
   "metadata": {},
   "source": [
    "### 6. Total de fallecidos"
   ]
  },
  {
   "cell_type": "code",
   "execution_count": 37,
   "metadata": {},
   "outputs": [],
   "source": [
    "ready_info_df = prepper.prep_info_df(category='Fallecidos', col_dates='Fecha', \n",
    "                               col_location='Territorio', col_categories='Indicador',\n",
    "                               col_values='Valor', long=True)"
   ]
  },
  {
   "cell_type": "code",
   "execution_count": 38,
   "metadata": {},
   "outputs": [],
   "source": [
    "merged_df = prepper.merge_info_geom()"
   ]
  },
  {
   "cell_type": "code",
   "execution_count": 39,
   "metadata": {},
   "outputs": [],
   "source": [
    "builder = ChoroMapBuilder(merged_df)"
   ]
  },
  {
   "cell_type": "code",
   "execution_count": 40,
   "metadata": {},
   "outputs": [
    {
     "data": {
      "text/html": [
       "<video width='640' height='480' controls>\n",
       "                <source src='charts/exports/fallecidos_total.mp4'>\n",
       "                Your browser does not support the video tag.</video>"
      ],
      "text/plain": [
       "<IPython.core.display.HTML object>"
      ]
     },
     "execution_count": 40,
     "metadata": {},
     "output_type": "execute_result"
    }
   ],
   "source": [
    "builder.make_map(title='Total de fallecidos por COVID-19 por departamento',\n",
    "                          subtitle='Fuente: SINAE - https://catalogodatos.gub.uy/dataset/sinae01-covid19',\n",
    "                          unit='Número de fallecidos', lang='es', save_name='fallecidos_total', \n",
    "                          fig_size=(10,8), fps=6, color='Reds')"
   ]
  },
  {
   "cell_type": "markdown",
   "metadata": {},
   "source": [
    "<a id='section_7'></a>"
   ]
  },
  {
   "cell_type": "markdown",
   "metadata": {},
   "source": [
    "### 7. Tasa de fallecidos"
   ]
  },
  {
   "cell_type": "code",
   "execution_count": 41,
   "metadata": {},
   "outputs": [],
   "source": [
    "ready_info_df = prepper.prep_info_df(category='Fallecidos', col_dates='Fecha', \n",
    "                               col_location='Territorio', col_categories='Indicador',\n",
    "                               col_values='Valor_tasa', long=True, roll_avg=True)"
   ]
  },
  {
   "cell_type": "code",
   "execution_count": 42,
   "metadata": {},
   "outputs": [],
   "source": [
    "merged_df = prepper.merge_info_geom()"
   ]
  },
  {
   "cell_type": "code",
   "execution_count": 43,
   "metadata": {},
   "outputs": [],
   "source": [
    "builder = ChoroMapBuilder(merged_df)"
   ]
  },
  {
   "cell_type": "code",
   "execution_count": 44,
   "metadata": {},
   "outputs": [
    {
     "data": {
      "text/html": [
       "<video width='640' height='480' controls>\n",
       "                <source src='charts/exports/fallecidos_tasa.mp4'>\n",
       "                Your browser does not support the video tag.</video>"
      ],
      "text/plain": [
       "<IPython.core.display.HTML object>"
      ]
     },
     "execution_count": 44,
     "metadata": {},
     "output_type": "execute_result"
    }
   ],
   "source": [
    "builder.make_map(title='Tasa de fallecidos por COVID-19 cada 100.000 personas',\n",
    "                    subtitle='Fuente: SINAE - https://catalogodatos.gub.uy/dataset/sinae01-covid19',\n",
    "                    unit='Fallecidos cada 100.000 personas', fig_size=(10,8), lang='es', \n",
    "                    save_name='fallecidos_tasa', fps=6, color='Reds')"
   ]
  },
  {
   "cell_type": "code",
   "execution_count": null,
   "metadata": {},
   "outputs": [],
   "source": []
  }
 ],
 "metadata": {
  "kernelspec": {
   "display_name": "covid19_uruguay",
   "language": "python",
   "name": "covid19_uruguay"
  },
  "language_info": {
   "codemirror_mode": {
    "name": "ipython",
    "version": 3
   },
   "file_extension": ".py",
   "mimetype": "text/x-python",
   "name": "python",
   "nbconvert_exporter": "python",
   "pygments_lexer": "ipython3",
   "version": "3.9.0"
  }
 },
 "nbformat": 4,
 "nbformat_minor": 4
}
