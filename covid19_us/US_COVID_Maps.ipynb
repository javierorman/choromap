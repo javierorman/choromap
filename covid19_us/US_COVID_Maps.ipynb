{
 "cells": [
  {
   "cell_type": "markdown",
   "metadata": {},
   "source": [
    "# Visualizing COVID-19 hospitalizations in the US with *choromap*"
   ]
  },
  {
   "cell_type": "markdown",
   "metadata": {},
   "source": [
    "**Javier Orman**  \n",
    "GitHub:   \n",
    "LinkedIn: https://www.linkedin.com/in/javierorman/\n",
    "\n",
    "Latest update: 9/11/2020"
   ]
  },
  {
   "cell_type": "markdown",
   "metadata": {},
   "source": [
    "## 1. Introduction\n",
    "In this notebook I showcase the use of the module **choromap**, which produces **animated choropleth maps**, to visualize the spread of COVID-19 in the United States. Data will be retrieved from the API of *The COVID Tracking Project at The Atlantic* and merged with US Census population data to calculate **hospitalization rates** for each state."
   ]
  },
  {
   "cell_type": "markdown",
   "metadata": {},
   "source": [
    "### Import dependencies"
   ]
  },
  {
   "cell_type": "markdown",
   "metadata": {},
   "source": [
    "Data will be imported and organized with *pandas*. *Geopandas* will be used to work with geospatial data and visualizations will be made with *matplotlib*."
   ]
  },
  {
   "cell_type": "code",
   "execution_count": 1,
   "metadata": {},
   "outputs": [],
   "source": [
    "import pandas as pd\n",
    "pd.set_option('display.max_columns', None)\n",
    "\n",
    "import geopandas as gpd\n",
    "\n",
    "import requests\n",
    "\n",
    "import os\n",
    "import sys\n",
    "\n",
    "from matplotlib import colors\n",
    "from matplotlib import pyplot as plt"
   ]
  },
  {
   "cell_type": "markdown",
   "metadata": {},
   "source": [
    "Set *module_path* for the directory containing the module *choromap*"
   ]
  },
  {
   "cell_type": "code",
   "execution_count": 2,
   "metadata": {},
   "outputs": [],
   "source": [
    "from pathlib import Path\n",
    "\n",
    "module_path = str(Path.cwd().parent)\n",
    "\n",
    "if module_path not in sys.path:\n",
    "    sys.path.append(module_path)"
   ]
  },
  {
   "cell_type": "markdown",
   "metadata": {},
   "source": [
    "Next, import classes *ChoroMapBuilder* and *DataFramePrepper* from module *choromap*. The module is [available on GitHub](https://github.com/javierorman/choromap)."
   ]
  },
  {
   "cell_type": "code",
   "execution_count": 4,
   "metadata": {
    "scrolled": true
   },
   "outputs": [],
   "source": [
    "from choromap import ChoroMapBuilder, DataFramePrepper"
   ]
  },
  {
   "cell_type": "markdown",
   "metadata": {},
   "source": [
    "## 2. COVID-19 data for each State"
   ]
  },
  {
   "cell_type": "markdown",
   "metadata": {},
   "source": [
    "The data used here is available from the API of *The COVID Tracking Project at The Atlantic\"*. More information [here](https://covidtracking.com/data/api)."
   ]
  },
  {
   "cell_type": "code",
   "execution_count": null,
   "metadata": {},
   "outputs": [],
   "source": [
    "us_covid_df = pd.read_csv('https://covidtracking.com/api/v1/states/daily.csv')\n",
    "us_covid_df"
   ]
  },
  {
   "cell_type": "markdown",
   "metadata": {},
   "source": [
    "Here are the variables available in the data:"
   ]
  },
  {
   "cell_type": "code",
   "execution_count": null,
   "metadata": {},
   "outputs": [],
   "source": [
    "us_covid_df.columns"
   ]
  },
  {
   "cell_type": "markdown",
   "metadata": {},
   "source": [
    "Next we change the format of the dates from *yyyymmdd* to *yyyy-mm-dd*."
   ]
  },
  {
   "cell_type": "code",
   "execution_count": null,
   "metadata": {},
   "outputs": [],
   "source": [
    "def to_iso(date):\n",
    "    \"\"\"\n",
    "    Convert a date (str) from yyyymmdd to yyyy-mm-dd,\n",
    "    e.g. 20200128 -> 2020-01-28\n",
    "    \"\"\"\n",
    "    x = str(date)\n",
    "    return x[0:4] + '-' + x[4:6] + '-' + x[6:8]"
   ]
  },
  {
   "cell_type": "code",
   "execution_count": null,
   "metadata": {},
   "outputs": [],
   "source": [
    "us_covid_df['date'] = us_covid_df['date'].apply(lambda x: to_iso(x))"
   ]
  },
  {
   "cell_type": "code",
   "execution_count": null,
   "metadata": {
    "scrolled": true
   },
   "outputs": [],
   "source": [
    "# First 5 rows\n",
    "us_covid_df.head(5)"
   ]
  },
  {
   "cell_type": "markdown",
   "metadata": {},
   "source": [
    "## 3. Population data"
   ]
  },
  {
   "cell_type": "markdown",
   "metadata": {},
   "source": [
    "Because we are interested in the *rate of hospitalizations* in each state, we need import population data. Here we use a dataset from the US Census, [available here](https://www2.census.gov/programs-surveys/popest/tables/2010-2019/state/totals/nst-est2019-01.xlsx)."
   ]
  },
  {
   "cell_type": "code",
   "execution_count": null,
   "metadata": {},
   "outputs": [],
   "source": [
    "census_df = pd.read_excel('datasets/nst-est2019-01.xlsx')"
   ]
  },
  {
   "cell_type": "code",
   "execution_count": null,
   "metadata": {
    "scrolled": true
   },
   "outputs": [],
   "source": [
    "# Eliminate unnecessary rows and columns\n",
    "census_df = census_df.iloc[8:59, [0, -1]].reset_index(drop=True)\n",
    "census_df.columns = ['state_full', 'population']\n",
    "\n",
    "# First 5 rows\n",
    "census_df.head()"
   ]
  },
  {
   "cell_type": "code",
   "execution_count": null,
   "metadata": {},
   "outputs": [],
   "source": [
    "# Eliminate unnecessary characters\n",
    "census_df['state_full'] = census_df['state_full'].str.replace('.', '')\n",
    "census_df.head()"
   ]
  },
  {
   "cell_type": "markdown",
   "metadata": {},
   "source": [
    "https://worldpopulationreview.com/states/state-abbreviations"
   ]
  },
  {
   "cell_type": "markdown",
   "metadata": {},
   "source": [
    "Because the states in *us_covid_df* are represented by 2-letter codes, we will use [this dataset](https://worldpopulationreview.com/states/state-abbreviations) to properly format *census_df*."
   ]
  },
  {
   "cell_type": "code",
   "execution_count": null,
   "metadata": {},
   "outputs": [],
   "source": [
    "codes_df = pd.read_csv('datasets/codes_data.csv')"
   ]
  },
  {
   "cell_type": "code",
   "execution_count": null,
   "metadata": {},
   "outputs": [],
   "source": [
    "codes_df.head()"
   ]
  },
  {
   "cell_type": "code",
   "execution_count": null,
   "metadata": {},
   "outputs": [],
   "source": [
    "# Merge census_df and codes_df\n",
    "pop_df = codes_df.merge(census_df, left_on='State', right_on='state_full', how='inner')\n",
    "\n",
    "# Eliminate unnecessary columns\n",
    "pop_df = pop_df.iloc[:, [2, 4]]\n",
    "\n",
    "# Rename columns\n",
    "pop_df.columns = ['state', 'population']\n",
    "\n",
    "# Show the first 5 columns\n",
    "pop_df.head()"
   ]
  },
  {
   "cell_type": "code",
   "execution_count": null,
   "metadata": {},
   "outputs": [],
   "source": [
    "# Merge pop_df and covid_df\n",
    "us_covid_df = us_covid_df.merge(pop_df, on='state', how='left')\n",
    "us_covid_df.head()"
   ]
  },
  {
   "cell_type": "code",
   "execution_count": null,
   "metadata": {},
   "outputs": [],
   "source": [
    "# Create column 'hosp_curr_100000' with the rate of hospitalizations per 100000 residents in each State.\n",
    "us_covid_df['hosp_curr_100000'] = (us_covid_df['hospitalizedCurrently'] / us_covid_df['population']) * 100000"
   ]
  },
  {
   "cell_type": "markdown",
   "metadata": {},
   "source": [
    "## 4. Geographic data"
   ]
  },
  {
   "cell_type": "markdown",
   "metadata": {},
   "source": [
    "The geospatial shapefiles for drawing the map of the United States are available [here](https://www.arcgis.com/home/item.html?id=f7f805eb65eb4ab787a0a3e1116ca7e5#). "
   ]
  },
  {
   "cell_type": "code",
   "execution_count": null,
   "metadata": {},
   "outputs": [],
   "source": [
    "filepath = 'shapefiles/states_21basic/states.shp'\n",
    "us_geom_df = gpd.read_file(filepath)"
   ]
  },
  {
   "cell_type": "markdown",
   "metadata": {},
   "source": [
    "Take out Alaska and Hawaii to keep a practical view of the map."
   ]
  },
  {
   "cell_type": "code",
   "execution_count": null,
   "metadata": {},
   "outputs": [],
   "source": [
    "us_geom_df = us_geom_df[us_geom_df['STATE_ABBR'].isin(['AK', 'HI']) == False]\n",
    "us_geom_df.plot()"
   ]
  },
  {
   "cell_type": "markdown",
   "metadata": {},
   "source": [
    "## 5. Map"
   ]
  },
  {
   "cell_type": "markdown",
   "metadata": {},
   "source": [
    "The module *choromap* includes two classes: ChoroMapBuilder, which has the methods necessary to make the maps and DataFramePrepper, which prepares the dataframes to pass to ChoroMapBuilder."
   ]
  },
  {
   "cell_type": "markdown",
   "metadata": {},
   "source": [
    "DataFramePrepper takes two parameters: *info_df* and *geom_df*. \n",
    "1. *us_covid_df* is our informational DataFrame with dates, locations and values (rate of hospitalizations in this case) and is passed as *info_df*. \n",
    "2. *us_geom_df* is our geometric DataFrame with locations and the vector information to draw the shapes of the states. It's passed as *geom_df*."
   ]
  },
  {
   "cell_type": "code",
   "execution_count": null,
   "metadata": {},
   "outputs": [],
   "source": [
    "prepper = DataFramePrepper(info_df=us_covid_df, geom_df=us_geom_df)"
   ]
  },
  {
   "cell_type": "code",
   "execution_count": null,
   "metadata": {},
   "outputs": [],
   "source": [
    "# Prepare the informational DataFrame by selecting the columns to focus on. \n",
    "# roll_avg being True means that daily values of hospitalizations will be smoothed out through a 7-day window average.\n",
    "prepper.prep_info_df(category='hosp_curr_100000', col_dates='date', col_location='state', roll_avg=True)\n",
    "\n",
    "# Prepare geometric DataFrame\n",
    "prepper.prep_geom_df(location_col='STATE_ABBR', geometry_col='geometry')\n",
    "\n",
    "# Merged the info_df and geom_df\n",
    "merged_df = prepper.merge_info_geom()\n",
    "\n",
    "# Show top 5 rows of merged_df\n",
    "merged_df.head()"
   ]
  },
  {
   "cell_type": "code",
   "execution_count": null,
   "metadata": {},
   "outputs": [],
   "source": [
    "builder = ChoroMapBuilder(merged_df=merged_df)"
   ]
  },
  {
   "cell_type": "markdown",
   "metadata": {},
   "source": [
    "Next we build the maps using the ChoroMapBuilder method *make_map*. Here are the possible arguments that we can pass to it:"
   ]
  },
  {
   "cell_type": "code",
   "execution_count": null,
   "metadata": {},
   "outputs": [],
   "source": [
    "help(ChoroMapBuilder.make_map)"
   ]
  },
  {
   "cell_type": "code",
   "execution_count": null,
   "metadata": {},
   "outputs": [],
   "source": [
    "builder.make_map(title='Rate of current COVID-19 hospitalizations in each state',\n",
    "                      subtitle='Source: The COVID Tracking Project at The Atlantic', \n",
    "                      unit='COVID-19 hospitalizations per 100,000 residents',\n",
    "                      save_name='hosp_curr_us_100000',\n",
    "                      count='all', begin_date='2020-03-01',\n",
    "                      color='Reds', fps=6)"
   ]
  },
  {
   "cell_type": "code",
   "execution_count": null,
   "metadata": {},
   "outputs": [],
   "source": []
  }
 ],
 "metadata": {
  "kernelspec": {
   "display_name": "Python 3",
   "language": "python",
   "name": "python3"
  },
  "language_info": {
   "codemirror_mode": {
    "name": "ipython",
    "version": 3
   },
   "file_extension": ".py",
   "mimetype": "text/x-python",
   "name": "python",
   "nbconvert_exporter": "python",
   "pygments_lexer": "ipython3",
   "version": "3.7.6"
  }
 },
 "nbformat": 4,
 "nbformat_minor": 4
}
